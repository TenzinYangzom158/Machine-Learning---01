{
  "nbformat": 4,
  "nbformat_minor": 0,
  "metadata": {
    "colab": {
      "name": "Lab3_DataProprocessingAndKNN.ipynb",
      "provenance": [],
      "collapsed_sections": [],
      "authorship_tag": "ABX9TyMLuSig2pgVf+75Pn6EU8xk",
      "include_colab_link": true
    },
    "kernelspec": {
      "name": "python3",
      "display_name": "Python 3"
    },
    "language_info": {
      "name": "python"
    }
  },
  "cells": [
    {
      "cell_type": "markdown",
      "metadata": {
        "id": "view-in-github",
        "colab_type": "text"
      },
      "source": [
        "<a href=\"https://colab.research.google.com/github/TenzinYangzom158/Machine-Learning---01/blob/main/Lab3_DataProprocessingAndKNN.ipynb\" target=\"_parent\"><img src=\"https://colab.research.google.com/assets/colab-badge.svg\" alt=\"Open In Colab\"/></a>"
      ]
    },
    {
      "cell_type": "markdown",
      "source": [
        "##### Tenzin Yangzom\n",
        "##### 2147158\n",
        "##### MCA 'A'"
      ],
      "metadata": {
        "id": "hzPAu51d2xtK"
      }
    },
    {
      "cell_type": "markdown",
      "source": [
        "# Lab 2: Implement the data preprocessing techniques and KNN"
      ],
      "metadata": {
        "id": "RT-T76w969Pp"
      }
    },
    {
      "cell_type": "code",
      "execution_count": 1,
      "metadata": {
        "id": "5j5_JDot2nGD"
      },
      "outputs": [],
      "source": [
        "import pandas as pd # for data manipulation\n",
        "import numpy as np # for data manipulation\n",
        "\n",
        "from sklearn.model_selection import train_test_split # for splitting the data into train and test samples\n",
        "from sklearn.metrics import classification_report # for model evaluation metrics\n",
        "from sklearn.preprocessing import MinMaxScaler # for feature scaling\n",
        "from sklearn.preprocessing import OrdinalEncoder # to encode categorical variables\n",
        "from sklearn.neighbors import KNeighborsClassifier # for KNN classification\n",
        "from sklearn.neighbors import KNeighborsRegressor # for KNN regression\n",
        "\n",
        "import matplotlib.pyplot as plt # for data visualization\n",
        "import plotly.express as px # for data visualization"
      ]
    },
    {
      "cell_type": "code",
      "source": [
        "!git clone https://github.com/TenzinYangzom158/Machine-Learning---01.git"
      ],
      "metadata": {
        "colab": {
          "base_uri": "https://localhost:8080/"
        },
        "id": "LaPHyZXv7QSO",
        "outputId": "d0e85f82-590a-448a-b991-aeda578cb5c3"
      },
      "execution_count": 2,
      "outputs": [
        {
          "output_type": "stream",
          "name": "stdout",
          "text": [
            "Cloning into 'Machine-Learning---01'...\n",
            "remote: Enumerating objects: 21, done.\u001b[K\n",
            "remote: Counting objects: 100% (21/21), done.\u001b[K\n",
            "remote: Compressing objects: 100% (20/20), done.\u001b[K\n",
            "remote: Total 21 (delta 7), reused 0 (delta 0), pack-reused 0\u001b[K\n",
            "Unpacking objects: 100% (21/21), done.\n"
          ]
        }
      ]
    },
    {
      "cell_type": "code",
      "source": [
        "# Read in data\n",
        "df = pd.read_csv('Machine-Learning---01/possum.csv', encoding='utf-8')\n",
        "# Print dataframe\n",
        "df"
      ],
      "metadata": {
        "colab": {
          "base_uri": "https://localhost:8080/",
          "height": 488
        },
        "id": "WuNHnosc7GX4",
        "outputId": "92c7456a-75ea-48ca-f1a1-388447dbdc0e"
      },
      "execution_count": 3,
      "outputs": [
        {
          "output_type": "execute_result",
          "data": {
            "text/plain": [
              "     case  site    Pop sex  age  hdlngth  skullw  totlngth  taill  footlgth  \\\n",
              "0       1     1    Vic   m  8.0     94.1    60.4      89.0   36.0      74.5   \n",
              "1       2     1    Vic   f  6.0     92.5    57.6      91.5   36.5      72.5   \n",
              "2       3     1    Vic   f  6.0     94.0    60.0      95.5   39.0      75.4   \n",
              "3       4     1    Vic   f  6.0     93.2    57.1      92.0   38.0      76.1   \n",
              "4       5     1    Vic   f  2.0     91.5    56.3      85.5   36.0      71.0   \n",
              "..    ...   ...    ...  ..  ...      ...     ...       ...    ...       ...   \n",
              "99    100     7  other   m  1.0     89.5    56.0      81.5   36.5      66.0   \n",
              "100   101     7  other   m  1.0     88.6    54.7      82.5   39.0      64.4   \n",
              "101   102     7  other   f  6.0     92.4    55.0      89.0   38.0      63.5   \n",
              "102   103     7  other   m  4.0     91.5    55.2      82.5   36.5      62.9   \n",
              "103   104     7  other   f  3.0     93.6    59.9      89.0   40.0      67.6   \n",
              "\n",
              "     earconch   eye  chest  belly  \n",
              "0        54.5  15.2   28.0   36.0  \n",
              "1        51.2  16.0   28.5   33.0  \n",
              "2        51.9  15.5   30.0   34.0  \n",
              "3        52.2  15.2   28.0   34.0  \n",
              "4        53.2  15.1   28.5   33.0  \n",
              "..        ...   ...    ...    ...  \n",
              "99       46.8  14.8   23.0   27.0  \n",
              "100      48.0  14.0   25.0   33.0  \n",
              "101      45.4  13.0   25.0   30.0  \n",
              "102      45.9  15.4   25.0   29.0  \n",
              "103      46.0  14.8   28.5   33.5  \n",
              "\n",
              "[104 rows x 14 columns]"
            ],
            "text/html": [
              "\n",
              "  <div id=\"df-6349a81e-f72d-482d-a9e8-5a9d523d6182\">\n",
              "    <div class=\"colab-df-container\">\n",
              "      <div>\n",
              "<style scoped>\n",
              "    .dataframe tbody tr th:only-of-type {\n",
              "        vertical-align: middle;\n",
              "    }\n",
              "\n",
              "    .dataframe tbody tr th {\n",
              "        vertical-align: top;\n",
              "    }\n",
              "\n",
              "    .dataframe thead th {\n",
              "        text-align: right;\n",
              "    }\n",
              "</style>\n",
              "<table border=\"1\" class=\"dataframe\">\n",
              "  <thead>\n",
              "    <tr style=\"text-align: right;\">\n",
              "      <th></th>\n",
              "      <th>case</th>\n",
              "      <th>site</th>\n",
              "      <th>Pop</th>\n",
              "      <th>sex</th>\n",
              "      <th>age</th>\n",
              "      <th>hdlngth</th>\n",
              "      <th>skullw</th>\n",
              "      <th>totlngth</th>\n",
              "      <th>taill</th>\n",
              "      <th>footlgth</th>\n",
              "      <th>earconch</th>\n",
              "      <th>eye</th>\n",
              "      <th>chest</th>\n",
              "      <th>belly</th>\n",
              "    </tr>\n",
              "  </thead>\n",
              "  <tbody>\n",
              "    <tr>\n",
              "      <th>0</th>\n",
              "      <td>1</td>\n",
              "      <td>1</td>\n",
              "      <td>Vic</td>\n",
              "      <td>m</td>\n",
              "      <td>8.0</td>\n",
              "      <td>94.1</td>\n",
              "      <td>60.4</td>\n",
              "      <td>89.0</td>\n",
              "      <td>36.0</td>\n",
              "      <td>74.5</td>\n",
              "      <td>54.5</td>\n",
              "      <td>15.2</td>\n",
              "      <td>28.0</td>\n",
              "      <td>36.0</td>\n",
              "    </tr>\n",
              "    <tr>\n",
              "      <th>1</th>\n",
              "      <td>2</td>\n",
              "      <td>1</td>\n",
              "      <td>Vic</td>\n",
              "      <td>f</td>\n",
              "      <td>6.0</td>\n",
              "      <td>92.5</td>\n",
              "      <td>57.6</td>\n",
              "      <td>91.5</td>\n",
              "      <td>36.5</td>\n",
              "      <td>72.5</td>\n",
              "      <td>51.2</td>\n",
              "      <td>16.0</td>\n",
              "      <td>28.5</td>\n",
              "      <td>33.0</td>\n",
              "    </tr>\n",
              "    <tr>\n",
              "      <th>2</th>\n",
              "      <td>3</td>\n",
              "      <td>1</td>\n",
              "      <td>Vic</td>\n",
              "      <td>f</td>\n",
              "      <td>6.0</td>\n",
              "      <td>94.0</td>\n",
              "      <td>60.0</td>\n",
              "      <td>95.5</td>\n",
              "      <td>39.0</td>\n",
              "      <td>75.4</td>\n",
              "      <td>51.9</td>\n",
              "      <td>15.5</td>\n",
              "      <td>30.0</td>\n",
              "      <td>34.0</td>\n",
              "    </tr>\n",
              "    <tr>\n",
              "      <th>3</th>\n",
              "      <td>4</td>\n",
              "      <td>1</td>\n",
              "      <td>Vic</td>\n",
              "      <td>f</td>\n",
              "      <td>6.0</td>\n",
              "      <td>93.2</td>\n",
              "      <td>57.1</td>\n",
              "      <td>92.0</td>\n",
              "      <td>38.0</td>\n",
              "      <td>76.1</td>\n",
              "      <td>52.2</td>\n",
              "      <td>15.2</td>\n",
              "      <td>28.0</td>\n",
              "      <td>34.0</td>\n",
              "    </tr>\n",
              "    <tr>\n",
              "      <th>4</th>\n",
              "      <td>5</td>\n",
              "      <td>1</td>\n",
              "      <td>Vic</td>\n",
              "      <td>f</td>\n",
              "      <td>2.0</td>\n",
              "      <td>91.5</td>\n",
              "      <td>56.3</td>\n",
              "      <td>85.5</td>\n",
              "      <td>36.0</td>\n",
              "      <td>71.0</td>\n",
              "      <td>53.2</td>\n",
              "      <td>15.1</td>\n",
              "      <td>28.5</td>\n",
              "      <td>33.0</td>\n",
              "    </tr>\n",
              "    <tr>\n",
              "      <th>...</th>\n",
              "      <td>...</td>\n",
              "      <td>...</td>\n",
              "      <td>...</td>\n",
              "      <td>...</td>\n",
              "      <td>...</td>\n",
              "      <td>...</td>\n",
              "      <td>...</td>\n",
              "      <td>...</td>\n",
              "      <td>...</td>\n",
              "      <td>...</td>\n",
              "      <td>...</td>\n",
              "      <td>...</td>\n",
              "      <td>...</td>\n",
              "      <td>...</td>\n",
              "    </tr>\n",
              "    <tr>\n",
              "      <th>99</th>\n",
              "      <td>100</td>\n",
              "      <td>7</td>\n",
              "      <td>other</td>\n",
              "      <td>m</td>\n",
              "      <td>1.0</td>\n",
              "      <td>89.5</td>\n",
              "      <td>56.0</td>\n",
              "      <td>81.5</td>\n",
              "      <td>36.5</td>\n",
              "      <td>66.0</td>\n",
              "      <td>46.8</td>\n",
              "      <td>14.8</td>\n",
              "      <td>23.0</td>\n",
              "      <td>27.0</td>\n",
              "    </tr>\n",
              "    <tr>\n",
              "      <th>100</th>\n",
              "      <td>101</td>\n",
              "      <td>7</td>\n",
              "      <td>other</td>\n",
              "      <td>m</td>\n",
              "      <td>1.0</td>\n",
              "      <td>88.6</td>\n",
              "      <td>54.7</td>\n",
              "      <td>82.5</td>\n",
              "      <td>39.0</td>\n",
              "      <td>64.4</td>\n",
              "      <td>48.0</td>\n",
              "      <td>14.0</td>\n",
              "      <td>25.0</td>\n",
              "      <td>33.0</td>\n",
              "    </tr>\n",
              "    <tr>\n",
              "      <th>101</th>\n",
              "      <td>102</td>\n",
              "      <td>7</td>\n",
              "      <td>other</td>\n",
              "      <td>f</td>\n",
              "      <td>6.0</td>\n",
              "      <td>92.4</td>\n",
              "      <td>55.0</td>\n",
              "      <td>89.0</td>\n",
              "      <td>38.0</td>\n",
              "      <td>63.5</td>\n",
              "      <td>45.4</td>\n",
              "      <td>13.0</td>\n",
              "      <td>25.0</td>\n",
              "      <td>30.0</td>\n",
              "    </tr>\n",
              "    <tr>\n",
              "      <th>102</th>\n",
              "      <td>103</td>\n",
              "      <td>7</td>\n",
              "      <td>other</td>\n",
              "      <td>m</td>\n",
              "      <td>4.0</td>\n",
              "      <td>91.5</td>\n",
              "      <td>55.2</td>\n",
              "      <td>82.5</td>\n",
              "      <td>36.5</td>\n",
              "      <td>62.9</td>\n",
              "      <td>45.9</td>\n",
              "      <td>15.4</td>\n",
              "      <td>25.0</td>\n",
              "      <td>29.0</td>\n",
              "    </tr>\n",
              "    <tr>\n",
              "      <th>103</th>\n",
              "      <td>104</td>\n",
              "      <td>7</td>\n",
              "      <td>other</td>\n",
              "      <td>f</td>\n",
              "      <td>3.0</td>\n",
              "      <td>93.6</td>\n",
              "      <td>59.9</td>\n",
              "      <td>89.0</td>\n",
              "      <td>40.0</td>\n",
              "      <td>67.6</td>\n",
              "      <td>46.0</td>\n",
              "      <td>14.8</td>\n",
              "      <td>28.5</td>\n",
              "      <td>33.5</td>\n",
              "    </tr>\n",
              "  </tbody>\n",
              "</table>\n",
              "<p>104 rows × 14 columns</p>\n",
              "</div>\n",
              "      <button class=\"colab-df-convert\" onclick=\"convertToInteractive('df-6349a81e-f72d-482d-a9e8-5a9d523d6182')\"\n",
              "              title=\"Convert this dataframe to an interactive table.\"\n",
              "              style=\"display:none;\">\n",
              "        \n",
              "  <svg xmlns=\"http://www.w3.org/2000/svg\" height=\"24px\"viewBox=\"0 0 24 24\"\n",
              "       width=\"24px\">\n",
              "    <path d=\"M0 0h24v24H0V0z\" fill=\"none\"/>\n",
              "    <path d=\"M18.56 5.44l.94 2.06.94-2.06 2.06-.94-2.06-.94-.94-2.06-.94 2.06-2.06.94zm-11 1L8.5 8.5l.94-2.06 2.06-.94-2.06-.94L8.5 2.5l-.94 2.06-2.06.94zm10 10l.94 2.06.94-2.06 2.06-.94-2.06-.94-.94-2.06-.94 2.06-2.06.94z\"/><path d=\"M17.41 7.96l-1.37-1.37c-.4-.4-.92-.59-1.43-.59-.52 0-1.04.2-1.43.59L10.3 9.45l-7.72 7.72c-.78.78-.78 2.05 0 2.83L4 21.41c.39.39.9.59 1.41.59.51 0 1.02-.2 1.41-.59l7.78-7.78 2.81-2.81c.8-.78.8-2.07 0-2.86zM5.41 20L4 18.59l7.72-7.72 1.47 1.35L5.41 20z\"/>\n",
              "  </svg>\n",
              "      </button>\n",
              "      \n",
              "  <style>\n",
              "    .colab-df-container {\n",
              "      display:flex;\n",
              "      flex-wrap:wrap;\n",
              "      gap: 12px;\n",
              "    }\n",
              "\n",
              "    .colab-df-convert {\n",
              "      background-color: #E8F0FE;\n",
              "      border: none;\n",
              "      border-radius: 50%;\n",
              "      cursor: pointer;\n",
              "      display: none;\n",
              "      fill: #1967D2;\n",
              "      height: 32px;\n",
              "      padding: 0 0 0 0;\n",
              "      width: 32px;\n",
              "    }\n",
              "\n",
              "    .colab-df-convert:hover {\n",
              "      background-color: #E2EBFA;\n",
              "      box-shadow: 0px 1px 2px rgba(60, 64, 67, 0.3), 0px 1px 3px 1px rgba(60, 64, 67, 0.15);\n",
              "      fill: #174EA6;\n",
              "    }\n",
              "\n",
              "    [theme=dark] .colab-df-convert {\n",
              "      background-color: #3B4455;\n",
              "      fill: #D2E3FC;\n",
              "    }\n",
              "\n",
              "    [theme=dark] .colab-df-convert:hover {\n",
              "      background-color: #434B5C;\n",
              "      box-shadow: 0px 1px 3px 1px rgba(0, 0, 0, 0.15);\n",
              "      filter: drop-shadow(0px 1px 2px rgba(0, 0, 0, 0.3));\n",
              "      fill: #FFFFFF;\n",
              "    }\n",
              "  </style>\n",
              "\n",
              "      <script>\n",
              "        const buttonEl =\n",
              "          document.querySelector('#df-6349a81e-f72d-482d-a9e8-5a9d523d6182 button.colab-df-convert');\n",
              "        buttonEl.style.display =\n",
              "          google.colab.kernel.accessAllowed ? 'block' : 'none';\n",
              "\n",
              "        async function convertToInteractive(key) {\n",
              "          const element = document.querySelector('#df-6349a81e-f72d-482d-a9e8-5a9d523d6182');\n",
              "          const dataTable =\n",
              "            await google.colab.kernel.invokeFunction('convertToInteractive',\n",
              "                                                     [key], {});\n",
              "          if (!dataTable) return;\n",
              "\n",
              "          const docLinkHtml = 'Like what you see? Visit the ' +\n",
              "            '<a target=\"_blank\" href=https://colab.research.google.com/notebooks/data_table.ipynb>data table notebook</a>'\n",
              "            + ' to learn more about interactive tables.';\n",
              "          element.innerHTML = '';\n",
              "          dataTable['output_type'] = 'display_data';\n",
              "          await google.colab.output.renderOutput(dataTable, element);\n",
              "          const docLink = document.createElement('div');\n",
              "          docLink.innerHTML = docLinkHtml;\n",
              "          element.appendChild(docLink);\n",
              "        }\n",
              "      </script>\n",
              "    </div>\n",
              "  </div>\n",
              "  "
            ]
          },
          "metadata": {},
          "execution_count": 3
        }
      ]
    },
    {
      "cell_type": "code",
      "source": [
        "# distribution chart\n",
        "plt.figure(figsize=(16,9), dpi=300)\n",
        "plt.xlabel('belly')\n",
        "plt.ylabel('chest')\n",
        "plt.hist(df['chest'], bins=20, color='orange', rwidth=0.9)\n",
        "plt.show()"
      ],
      "metadata": {
        "colab": {
          "base_uri": "https://localhost:8080/",
          "height": 380
        },
        "id": "IHqSctec76ql",
        "outputId": "b58ab45e-27f8-4004-b321-1accabef3834"
      },
      "execution_count": 41,
      "outputs": [
        {
          "output_type": "display_data",
          "data": {
            "text/plain": [
              "<Figure size 4800x2700 with 1 Axes>"
            ],
            "image/png": "[encoded data removed]"
          },
          "metadata": {
            "needs_background": "light"
          }
        }
      ]
    },
    {
      "cell_type": "code",
      "source": [
        "df.isna().sum()  # isna() and isnull() does the same function (detecting missing values)"
      ],
      "metadata": {
        "colab": {
          "base_uri": "https://localhost:8080/"
        },
        "id": "HFhN31j_9sEd",
        "outputId": "331d394c-341c-4036-8f53-c44f811ca3cd"
      },
      "execution_count": 27,
      "outputs": [
        {
          "output_type": "execute_result",
          "data": {
            "text/plain": [
              "case            0\n",
              "site            0\n",
              "Pop             0\n",
              "sex             0\n",
              "age             0\n",
              "hdlngth         0\n",
              "skullw          0\n",
              "totlngth        0\n",
              "taill           0\n",
              "footlgth        0\n",
              "earconch        0\n",
              "eye             0\n",
              "chest           0\n",
              "belly           0\n",
              "hdlngth scl     0\n",
              "totlngth scl    0\n",
              "Pop enc         0\n",
              "dtype: int64"
            ]
          },
          "metadata": {},
          "execution_count": 27
        }
      ]
    },
    {
      "cell_type": "code",
      "source": [
        "# Filling missing values with average\n",
        "\n",
        "df = df.fillna(df.mean())"
      ],
      "metadata": {
        "colab": {
          "base_uri": "https://localhost:8080/"
        },
        "id": "evURN57T-4G_",
        "outputId": "dd316fb8-b81c-46d9-a890-139ddba4ee0a"
      },
      "execution_count": 28,
      "outputs": [
        {
          "output_type": "stream",
          "name": "stderr",
          "text": [
            "/usr/local/lib/python3.7/dist-packages/ipykernel_launcher.py:3: FutureWarning: Dropping of nuisance columns in DataFrame reductions (with 'numeric_only=None') is deprecated; in a future version this will raise TypeError.  Select only valid columns before calling the reduction.\n",
            "  This is separate from the ipykernel package so we can avoid doing imports until\n"
          ]
        }
      ]
    },
    {
      "cell_type": "code",
      "source": [
        "df.isna().sum()"
      ],
      "metadata": {
        "colab": {
          "base_uri": "https://localhost:8080/"
        },
        "id": "mJdFzUkf_CUF",
        "outputId": "fe7ebd74-f335-48d8-a261-c45c355a2a39"
      },
      "execution_count": 29,
      "outputs": [
        {
          "output_type": "execute_result",
          "data": {
            "text/plain": [
              "case            0\n",
              "site            0\n",
              "Pop             0\n",
              "sex             0\n",
              "age             0\n",
              "hdlngth         0\n",
              "skullw          0\n",
              "totlngth        0\n",
              "taill           0\n",
              "footlgth        0\n",
              "earconch        0\n",
              "eye             0\n",
              "chest           0\n",
              "belly           0\n",
              "hdlngth scl     0\n",
              "totlngth scl    0\n",
              "Pop enc         0\n",
              "dtype: int64"
            ]
          },
          "metadata": {},
          "execution_count": 29
        }
      ]
    },
    {
      "cell_type": "code",
      "source": [
        "df.shape"
      ],
      "metadata": {
        "colab": {
          "base_uri": "https://localhost:8080/"
        },
        "id": "VK8td2nJ_GfW",
        "outputId": "2957bff8-1dae-4c06-f987-d8d5efe153a9"
      },
      "execution_count": 30,
      "outputs": [
        {
          "output_type": "execute_result",
          "data": {
            "text/plain": [
              "(104, 17)"
            ]
          },
          "metadata": {},
          "execution_count": 30
        }
      ]
    },
    {
      "cell_type": "code",
      "source": [
        "# Step 1 - Preprocess data\n",
        "# Min-Max scaling\n",
        "from sklearn.preprocessing import MinMaxScaler \n",
        "scaler = MinMaxScaler()\n",
        "df['belly scl']=scaler.fit_transform(df[['belly']])\n",
        "df['chest scl']=scaler.fit_transform(df[['chest']])\n",
        "\n",
        "# Encode Pop for usage as target in the classification model\n",
        "enc=OrdinalEncoder() # select encoding method\n",
        "df['Pop enc']=enc.fit_transform(df[['Pop']]) # encode categorical values"
      ],
      "metadata": {
        "id": "H6hARQrs_IVx"
      },
      "execution_count": 42,
      "outputs": []
    },
    {
      "cell_type": "code",
      "source": [
        "# Step 2 - Create training and testing samples (note, we have two sets of targets (yC and yR))\n",
        "# Split into train and test dataframes\n",
        "df_train, df_test = train_test_split(df, test_size=0.2, random_state=42)\n",
        "\n",
        "# Independent variables (features)\n",
        "X_train=df_train[['belly scl', 'chest scl']]\n",
        "X_test=df_test[['belly scl', 'chest scl']]\n",
        "# Target for classification model\n",
        "yC_train=df_train['Pop enc'].ravel()\n",
        "yC_test=df_test['Pop enc'].ravel()\n",
        "# Target for regression model\n",
        "yR_train=df_train['chest'].ravel()\n",
        "yR_test=df_test['chest'].ravel()"
      ],
      "metadata": {
        "id": "9m6jzfS9_zm1"
      },
      "execution_count": 43,
      "outputs": []
    },
    {
      "cell_type": "code",
      "source": [
        "# Step 3a - Set model parameters - Classification\n",
        "modelC = KNeighborsClassifier(n_neighbors=5, \n",
        "                              weights='uniform',  \n",
        "                              metric_params=None, \n",
        "                              n_jobs=-1 \n",
        "                            ) \n",
        "# Step 3b - Set model parameters - Regression\n",
        "modelR = KNeighborsRegressor(n_neighbors=5, \n",
        "                             weights='uniform', \n",
        "                             algorithm='auto', \n",
        "                             metric_params=None,\n",
        "                             n_jobs=-1 \n",
        "                            )"
      ],
      "metadata": {
        "id": "3k3d3whcARow"
      },
      "execution_count": 44,
      "outputs": []
    },
    {
      "cell_type": "code",
      "source": [
        "# Step 4 - Fit the two models\n",
        "clf = modelC.fit(X_train, yC_train)\n",
        "reg = modelR.fit(X_train, yR_train)"
      ],
      "metadata": {
        "id": "WwMDKScuAfZO"
      },
      "execution_count": 45,
      "outputs": []
    },
    {
      "cell_type": "code",
      "source": [
        "# Step 5 - Predict class labels / target values\n",
        "# Predict on training data\n",
        "pred_labels_tr = modelC.predict(X_train)\n",
        "pred_values_tr = modelR.predict(X_train)"
      ],
      "metadata": {
        "id": "T_50yVj3AiFd"
      },
      "execution_count": 46,
      "outputs": []
    },
    {
      "cell_type": "code",
      "source": [
        "# Predict on a test data\n",
        "pred_labels_te = modelC.predict(X_test)\n",
        "pred_values_te = modelR.predict(X_test)"
      ],
      "metadata": {
        "id": "JmD27IZEAoO9"
      },
      "execution_count": 47,
      "outputs": []
    },
    {
      "cell_type": "code",
      "source": [
        "# Step 6 - Print model results\n",
        "# Basic info about the model\n",
        "print('---------------------------------------------------------')\n",
        "print('****************** KNN Classification ******************')    \n",
        "print('Classes: ', clf.classes_)\n",
        "print('Effective Metric: ', clf.effective_metric_)\n",
        "print('Effective Metric Params: ', clf.effective_metric_params_)\n",
        "print('No. of Samples Fit: ', clf.n_samples_fit_)\n",
        "#print('Outputs 2D: ', clf.outputs_2d_)\n",
        "#print('--------------------------------------------------------')\n",
        "print(\"\")\n",
        "\n",
        "print('*************** Evaluation on Test Data ***************')\n",
        "scoreC_te = modelC.score(X_test, yC_test)\n",
        "print('Accuracy Score: ', scoreC_te)\n",
        "# Look at classification report to evaluate the model\n",
        "print(classification_report(yC_test, pred_labels_te))\n",
        "#print('--------------------------------------------------------')\n",
        "print(\"\")\n",
        "\n",
        "print('*************** Evaluation on Training Data ***************')\n",
        "scoreC_tr = modelC.score(X_train, yC_train)\n",
        "print('Accuracy Score: ', scoreC_tr)\n",
        "# Look at classification report to evaluate the model\n",
        "print(classification_report(yC_train, pred_labels_tr))\n",
        "print('---------------------------------------------------------')\n",
        "\n",
        "# Basic info about the model\n",
        "print(\"\")\n",
        "print('****************** KNN Regression ******************')    \n",
        "print('Effective Metric: ', reg.effective_metric_)\n",
        "print('Effective Metric Params: ', reg.effective_metric_params_)\n",
        "print('No. of Samples Fit: ', reg.n_samples_fit_)\n",
        "print(\"\")\n",
        "scoreR_te = modelR.score(X_test, yR_test)\n",
        "print('Test Accuracy Score: ', scoreR_te)\n",
        "scoreR_tr = modelR.score(X_train, yR_train)\n",
        "print('Training Accuracy Score: ', scoreR_tr)\n",
        "\n",
        "print('---------------------------------------------------------')\n"
      ],
      "metadata": {
        "colab": {
          "base_uri": "https://localhost:8080/"
        },
        "id": "LRcCwpIEArh6",
        "outputId": "37307304-b281-4035-8216-e50f142abc2b"
      },
      "execution_count": 48,
      "outputs": [
        {
          "output_type": "stream",
          "name": "stdout",
          "text": [
            "---------------------------------------------------------\n",
            "****************** KNN Classification ******************\n",
            "Classes:  [0. 1.]\n",
            "Effective Metric:  euclidean\n",
            "Effective Metric Params:  {}\n",
            "No. of Samples Fit:  83\n",
            "\n",
            "*************** Evaluation on Test Data ***************\n",
            "Accuracy Score:  0.42857142857142855\n",
            "              precision    recall  f1-score   support\n",
            "\n",
            "         0.0       0.42      0.50      0.45        10\n",
            "         1.0       0.44      0.36      0.40        11\n",
            "\n",
            "    accuracy                           0.43        21\n",
            "   macro avg       0.43      0.43      0.43        21\n",
            "weighted avg       0.43      0.43      0.43        21\n",
            "\n",
            "\n",
            "*************** Evaluation on Training Data ***************\n",
            "Accuracy Score:  0.7108433734939759\n",
            "              precision    recall  f1-score   support\n",
            "\n",
            "         0.0       0.65      0.72      0.68        36\n",
            "         1.0       0.77      0.70      0.73        47\n",
            "\n",
            "    accuracy                           0.71        83\n",
            "   macro avg       0.71      0.71      0.71        83\n",
            "weighted avg       0.72      0.71      0.71        83\n",
            "\n",
            "---------------------------------------------------------\n",
            "\n",
            "****************** KNN Regression ******************\n",
            "Effective Metric:  euclidean\n",
            "Effective Metric Params:  {}\n",
            "No. of Samples Fit:  83\n",
            "\n",
            "Test Accuracy Score:  0.978496\n",
            "Training Accuracy Score:  0.9801765621682825\n",
            "---------------------------------------------------------\n"
          ]
        }
      ]
    },
    {
      "cell_type": "code",
      "source": [
        ""
      ],
      "metadata": {
        "id": "EgdJYgyHBFcR"
      },
      "execution_count": null,
      "outputs": []
    }
  ]
}