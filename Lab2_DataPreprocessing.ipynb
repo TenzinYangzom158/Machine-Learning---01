{
  "nbformat": 4,
  "nbformat_minor": 0,
  "metadata": {
    "colab": {
      "name": "Lab2_DataPreprocessing.ipynb",
      "provenance": [],
      "authorship_tag": "ABX9TyNs3Wz+59EKNsNRgUpoHwph",
      "include_colab_link": true
    },
    "kernelspec": {
      "name": "python3",
      "display_name": "Python 3"
    },
    "language_info": {
      "name": "python"
    }
  },
  "cells": [
    {
      "cell_type": "markdown",
      "metadata": {
        "id": "view-in-github",
        "colab_type": "text"
      },
      "source": [
        "<a href=\"https://colab.research.google.com/github/TenzinYangzom158/Machine-Learning---01/blob/main/Lab2_DataPreprocessing.ipynb\" target=\"_parent\"><img src=\"https://colab.research.google.com/assets/colab-badge.svg\" alt=\"Open In Colab\"/></a>"
      ]
    },
    {
      "cell_type": "markdown",
      "source": [
        "# Lab 2: Implement the data preprocessing techniques and KNN"
      ],
      "metadata": {
        "id": "6fSXihrL-PYg"
      }
    },
    {
      "cell_type": "code",
      "execution_count": 1,
      "metadata": {
        "id": "CmPwm_qo-Ecz"
      },
      "outputs": [],
      "source": [
        "import numpy as np # linear algebra\n",
        "import pandas as pd # data processing, CSV file I/O (e.g. pd.read_csv)"
      ]
    },
    {
      "cell_type": "markdown",
      "source": [
        "Importing Libraries"
      ],
      "metadata": {
        "id": "vQgZu6Mf_ePs"
      }
    },
    {
      "cell_type": "code",
      "source": [
        "import pandas as pd\n",
        "import numpy as np\n",
        "import matplotlib.pyplot as plt\n",
        "import seaborn as sb"
      ],
      "metadata": {
        "id": "DMVQvyMQ_VMX"
      },
      "execution_count": 2,
      "outputs": []
    },
    {
      "cell_type": "markdown",
      "source": [
        "To create a model that can predict the age of a possum, given a set of features describing it."
      ],
      "metadata": {
        "id": "iDWjEZ0l_lC1"
      }
    },
    {
      "cell_type": "code",
      "source": [
        "#Importing data and displaying the first 10 samples\n",
        "\n",
        "data = pd.read_csv(\"possum.csv\")\n",
        "data.head(10)"
      ],
      "metadata": {
        "colab": {
          "base_uri": "https://localhost:8080/",
          "height": 427
        },
        "id": "y3GNuNWZ_iFQ",
        "outputId": "a482ec49-f681-4e0d-8760-24cc144cef44"
      },
      "execution_count": 3,
      "outputs": [
        {
          "output_type": "execute_result",
          "data": {
            "text/plain": [
              "   case  site  Pop sex  age  hdlngth  skullw  totlngth  taill  footlgth  \\\n",
              "0     1     1  Vic   m  8.0     94.1    60.4      89.0   36.0      74.5   \n",
              "1     2     1  Vic   f  6.0     92.5    57.6      91.5   36.5      72.5   \n",
              "2     3     1  Vic   f  6.0     94.0    60.0      95.5   39.0      75.4   \n",
              "3     4     1  Vic   f  6.0     93.2    57.1      92.0   38.0      76.1   \n",
              "4     5     1  Vic   f  2.0     91.5    56.3      85.5   36.0      71.0   \n",
              "5     6     1  Vic   f  1.0     93.1    54.8      90.5   35.5      73.2   \n",
              "6     7     1  Vic   m  2.0     95.3    58.2      89.5   36.0      71.5   \n",
              "7     8     1  Vic   f  6.0     94.8    57.6      91.0   37.0      72.7   \n",
              "8     9     1  Vic   f  9.0     93.4    56.3      91.5   37.0      72.4   \n",
              "9    10     1  Vic   f  6.0     91.8    58.0      89.5   37.5      70.9   \n",
              "\n",
              "   earconch   eye  chest  belly  \n",
              "0      54.5  15.2   28.0   36.0  \n",
              "1      51.2  16.0   28.5   33.0  \n",
              "2      51.9  15.5   30.0   34.0  \n",
              "3      52.2  15.2   28.0   34.0  \n",
              "4      53.2  15.1   28.5   33.0  \n",
              "5      53.6  14.2   30.0   32.0  \n",
              "6      52.0  14.2   30.0   34.5  \n",
              "7      53.9  14.5   29.0   34.0  \n",
              "8      52.9  15.5   28.0   33.0  \n",
              "9      53.4  14.4   27.5   32.0  "
            ],
            "text/html": [
              "\n",
              "  <div id=\"df-c5e5aa14-d4fd-4861-a75b-c22038a1f5d4\">\n",
              "    <div class=\"colab-df-container\">\n",
              "      <div>\n",
              "<style scoped>\n",
              "    .dataframe tbody tr th:only-of-type {\n",
              "        vertical-align: middle;\n",
              "    }\n",
              "\n",
              "    .dataframe tbody tr th {\n",
              "        vertical-align: top;\n",
              "    }\n",
              "\n",
              "    .dataframe thead th {\n",
              "        text-align: right;\n",
              "    }\n",
              "</style>\n",
              "<table border=\"1\" class=\"dataframe\">\n",
              "  <thead>\n",
              "    <tr style=\"text-align: right;\">\n",
              "      <th></th>\n",
              "      <th>case</th>\n",
              "      <th>site</th>\n",
              "      <th>Pop</th>\n",
              "      <th>sex</th>\n",
              "      <th>age</th>\n",
              "      <th>hdlngth</th>\n",
              "      <th>skullw</th>\n",
              "      <th>totlngth</th>\n",
              "      <th>taill</th>\n",
              "      <th>footlgth</th>\n",
              "      <th>earconch</th>\n",
              "      <th>eye</th>\n",
              "      <th>chest</th>\n",
              "      <th>belly</th>\n",
              "    </tr>\n",
              "  </thead>\n",
              "  <tbody>\n",
              "    <tr>\n",
              "      <th>0</th>\n",
              "      <td>1</td>\n",
              "      <td>1</td>\n",
              "      <td>Vic</td>\n",
              "      <td>m</td>\n",
              "      <td>8.0</td>\n",
              "      <td>94.1</td>\n",
              "      <td>60.4</td>\n",
              "      <td>89.0</td>\n",
              "      <td>36.0</td>\n",
              "      <td>74.5</td>\n",
              "      <td>54.5</td>\n",
              "      <td>15.2</td>\n",
              "      <td>28.0</td>\n",
              "      <td>36.0</td>\n",
              "    </tr>\n",
              "    <tr>\n",
              "      <th>1</th>\n",
              "      <td>2</td>\n",
              "      <td>1</td>\n",
              "      <td>Vic</td>\n",
              "      <td>f</td>\n",
              "      <td>6.0</td>\n",
              "      <td>92.5</td>\n",
              "      <td>57.6</td>\n",
              "      <td>91.5</td>\n",
              "      <td>36.5</td>\n",
              "      <td>72.5</td>\n",
              "      <td>51.2</td>\n",
              "      <td>16.0</td>\n",
              "      <td>28.5</td>\n",
              "      <td>33.0</td>\n",
              "    </tr>\n",
              "    <tr>\n",
              "      <th>2</th>\n",
              "      <td>3</td>\n",
              "      <td>1</td>\n",
              "      <td>Vic</td>\n",
              "      <td>f</td>\n",
              "      <td>6.0</td>\n",
              "      <td>94.0</td>\n",
              "      <td>60.0</td>\n",
              "      <td>95.5</td>\n",
              "      <td>39.0</td>\n",
              "      <td>75.4</td>\n",
              "      <td>51.9</td>\n",
              "      <td>15.5</td>\n",
              "      <td>30.0</td>\n",
              "      <td>34.0</td>\n",
              "    </tr>\n",
              "    <tr>\n",
              "      <th>3</th>\n",
              "      <td>4</td>\n",
              "      <td>1</td>\n",
              "      <td>Vic</td>\n",
              "      <td>f</td>\n",
              "      <td>6.0</td>\n",
              "      <td>93.2</td>\n",
              "      <td>57.1</td>\n",
              "      <td>92.0</td>\n",
              "      <td>38.0</td>\n",
              "      <td>76.1</td>\n",
              "      <td>52.2</td>\n",
              "      <td>15.2</td>\n",
              "      <td>28.0</td>\n",
              "      <td>34.0</td>\n",
              "    </tr>\n",
              "    <tr>\n",
              "      <th>4</th>\n",
              "      <td>5</td>\n",
              "      <td>1</td>\n",
              "      <td>Vic</td>\n",
              "      <td>f</td>\n",
              "      <td>2.0</td>\n",
              "      <td>91.5</td>\n",
              "      <td>56.3</td>\n",
              "      <td>85.5</td>\n",
              "      <td>36.0</td>\n",
              "      <td>71.0</td>\n",
              "      <td>53.2</td>\n",
              "      <td>15.1</td>\n",
              "      <td>28.5</td>\n",
              "      <td>33.0</td>\n",
              "    </tr>\n",
              "    <tr>\n",
              "      <th>5</th>\n",
              "      <td>6</td>\n",
              "      <td>1</td>\n",
              "      <td>Vic</td>\n",
              "      <td>f</td>\n",
              "      <td>1.0</td>\n",
              "      <td>93.1</td>\n",
              "      <td>54.8</td>\n",
              "      <td>90.5</td>\n",
              "      <td>35.5</td>\n",
              "      <td>73.2</td>\n",
              "      <td>53.6</td>\n",
              "      <td>14.2</td>\n",
              "      <td>30.0</td>\n",
              "      <td>32.0</td>\n",
              "    </tr>\n",
              "    <tr>\n",
              "      <th>6</th>\n",
              "      <td>7</td>\n",
              "      <td>1</td>\n",
              "      <td>Vic</td>\n",
              "      <td>m</td>\n",
              "      <td>2.0</td>\n",
              "      <td>95.3</td>\n",
              "      <td>58.2</td>\n",
              "      <td>89.5</td>\n",
              "      <td>36.0</td>\n",
              "      <td>71.5</td>\n",
              "      <td>52.0</td>\n",
              "      <td>14.2</td>\n",
              "      <td>30.0</td>\n",
              "      <td>34.5</td>\n",
              "    </tr>\n",
              "    <tr>\n",
              "      <th>7</th>\n",
              "      <td>8</td>\n",
              "      <td>1</td>\n",
              "      <td>Vic</td>\n",
              "      <td>f</td>\n",
              "      <td>6.0</td>\n",
              "      <td>94.8</td>\n",
              "      <td>57.6</td>\n",
              "      <td>91.0</td>\n",
              "      <td>37.0</td>\n",
              "      <td>72.7</td>\n",
              "      <td>53.9</td>\n",
              "      <td>14.5</td>\n",
              "      <td>29.0</td>\n",
              "      <td>34.0</td>\n",
              "    </tr>\n",
              "    <tr>\n",
              "      <th>8</th>\n",
              "      <td>9</td>\n",
              "      <td>1</td>\n",
              "      <td>Vic</td>\n",
              "      <td>f</td>\n",
              "      <td>9.0</td>\n",
              "      <td>93.4</td>\n",
              "      <td>56.3</td>\n",
              "      <td>91.5</td>\n",
              "      <td>37.0</td>\n",
              "      <td>72.4</td>\n",
              "      <td>52.9</td>\n",
              "      <td>15.5</td>\n",
              "      <td>28.0</td>\n",
              "      <td>33.0</td>\n",
              "    </tr>\n",
              "    <tr>\n",
              "      <th>9</th>\n",
              "      <td>10</td>\n",
              "      <td>1</td>\n",
              "      <td>Vic</td>\n",
              "      <td>f</td>\n",
              "      <td>6.0</td>\n",
              "      <td>91.8</td>\n",
              "      <td>58.0</td>\n",
              "      <td>89.5</td>\n",
              "      <td>37.5</td>\n",
              "      <td>70.9</td>\n",
              "      <td>53.4</td>\n",
              "      <td>14.4</td>\n",
              "      <td>27.5</td>\n",
              "      <td>32.0</td>\n",
              "    </tr>\n",
              "  </tbody>\n",
              "</table>\n",
              "</div>\n",
              "      <button class=\"colab-df-convert\" onclick=\"convertToInteractive('df-c5e5aa14-d4fd-4861-a75b-c22038a1f5d4')\"\n",
              "              title=\"Convert this dataframe to an interactive table.\"\n",
              "              style=\"display:none;\">\n",
              "        \n",
              "  <svg xmlns=\"http://www.w3.org/2000/svg\" height=\"24px\"viewBox=\"0 0 24 24\"\n",
              "       width=\"24px\">\n",
              "    <path d=\"M0 0h24v24H0V0z\" fill=\"none\"/>\n",
              "    <path d=\"M18.56 5.44l.94 2.06.94-2.06 2.06-.94-2.06-.94-.94-2.06-.94 2.06-2.06.94zm-11 1L8.5 8.5l.94-2.06 2.06-.94-2.06-.94L8.5 2.5l-.94 2.06-2.06.94zm10 10l.94 2.06.94-2.06 2.06-.94-2.06-.94-.94-2.06-.94 2.06-2.06.94z\"/><path d=\"M17.41 7.96l-1.37-1.37c-.4-.4-.92-.59-1.43-.59-.52 0-1.04.2-1.43.59L10.3 9.45l-7.72 7.72c-.78.78-.78 2.05 0 2.83L4 21.41c.39.39.9.59 1.41.59.51 0 1.02-.2 1.41-.59l7.78-7.78 2.81-2.81c.8-.78.8-2.07 0-2.86zM5.41 20L4 18.59l7.72-7.72 1.47 1.35L5.41 20z\"/>\n",
              "  </svg>\n",
              "      </button>\n",
              "      \n",
              "  <style>\n",
              "    .colab-df-container {\n",
              "      display:flex;\n",
              "      flex-wrap:wrap;\n",
              "      gap: 12px;\n",
              "    }\n",
              "\n",
              "    .colab-df-convert {\n",
              "      background-color: #E8F0FE;\n",
              "      border: none;\n",
              "      border-radius: 50%;\n",
              "      cursor: pointer;\n",
              "      display: none;\n",
              "      fill: #1967D2;\n",
              "      height: 32px;\n",
              "      padding: 0 0 0 0;\n",
              "      width: 32px;\n",
              "    }\n",
              "\n",
              "    .colab-df-convert:hover {\n",
              "      background-color: #E2EBFA;\n",
              "      box-shadow: 0px 1px 2px rgba(60, 64, 67, 0.3), 0px 1px 3px 1px rgba(60, 64, 67, 0.15);\n",
              "      fill: #174EA6;\n",
              "    }\n",
              "\n",
              "    [theme=dark] .colab-df-convert {\n",
              "      background-color: #3B4455;\n",
              "      fill: #D2E3FC;\n",
              "    }\n",
              "\n",
              "    [theme=dark] .colab-df-convert:hover {\n",
              "      background-color: #434B5C;\n",
              "      box-shadow: 0px 1px 3px 1px rgba(0, 0, 0, 0.15);\n",
              "      filter: drop-shadow(0px 1px 2px rgba(0, 0, 0, 0.3));\n",
              "      fill: #FFFFFF;\n",
              "    }\n",
              "  </style>\n",
              "\n",
              "      <script>\n",
              "        const buttonEl =\n",
              "          document.querySelector('#df-c5e5aa14-d4fd-4861-a75b-c22038a1f5d4 button.colab-df-convert');\n",
              "        buttonEl.style.display =\n",
              "          google.colab.kernel.accessAllowed ? 'block' : 'none';\n",
              "\n",
              "        async function convertToInteractive(key) {\n",
              "          const element = document.querySelector('#df-c5e5aa14-d4fd-4861-a75b-c22038a1f5d4');\n",
              "          const dataTable =\n",
              "            await google.colab.kernel.invokeFunction('convertToInteractive',\n",
              "                                                     [key], {});\n",
              "          if (!dataTable) return;\n",
              "\n",
              "          const docLinkHtml = 'Like what you see? Visit the ' +\n",
              "            '<a target=\"_blank\" href=https://colab.research.google.com/notebooks/data_table.ipynb>data table notebook</a>'\n",
              "            + ' to learn more about interactive tables.';\n",
              "          element.innerHTML = '';\n",
              "          dataTable['output_type'] = 'display_data';\n",
              "          await google.colab.output.renderOutput(dataTable, element);\n",
              "          const docLink = document.createElement('div');\n",
              "          docLink.innerHTML = docLinkHtml;\n",
              "          element.appendChild(docLink);\n",
              "        }\n",
              "      </script>\n",
              "    </div>\n",
              "  </div>\n",
              "  "
            ]
          },
          "metadata": {},
          "execution_count": 3
        }
      ]
    },
    {
      "cell_type": "markdown",
      "source": [
        "### Null Values"
      ],
      "metadata": {
        "id": "_y87pQmj_w-O"
      }
    },
    {
      "cell_type": "code",
      "source": [
        "data.isna().sum()"
      ],
      "metadata": {
        "colab": {
          "base_uri": "https://localhost:8080/"
        },
        "id": "xEdSx0NR_vm3",
        "outputId": "08b16338-7d3b-4c32-f667-b44982485cb2"
      },
      "execution_count": 4,
      "outputs": [
        {
          "output_type": "execute_result",
          "data": {
            "text/plain": [
              "case        0\n",
              "site        0\n",
              "Pop         0\n",
              "sex         0\n",
              "age         2\n",
              "hdlngth     0\n",
              "skullw      0\n",
              "totlngth    0\n",
              "taill       0\n",
              "footlgth    1\n",
              "earconch    0\n",
              "eye         0\n",
              "chest       0\n",
              "belly       0\n",
              "dtype: int64"
            ]
          },
          "metadata": {},
          "execution_count": 4
        }
      ]
    },
    {
      "cell_type": "code",
      "source": [
        "# Filling missing values with average\n",
        "\n",
        "data = data.fillna(data.mean())"
      ],
      "metadata": {
        "colab": {
          "base_uri": "https://localhost:8080/"
        },
        "id": "8Eh6JBZB_1w4",
        "outputId": "9f24d2ed-e97f-4ff5-f173-865b553a1814"
      },
      "execution_count": 5,
      "outputs": [
        {
          "output_type": "stream",
          "name": "stderr",
          "text": [
            "/usr/local/lib/python3.7/dist-packages/ipykernel_launcher.py:3: FutureWarning: Dropping of nuisance columns in DataFrame reductions (with 'numeric_only=None') is deprecated; in a future version this will raise TypeError.  Select only valid columns before calling the reduction.\n",
            "  This is separate from the ipykernel package so we can avoid doing imports until\n"
          ]
        }
      ]
    },
    {
      "cell_type": "code",
      "source": [
        "data.isna().sum()"
      ],
      "metadata": {
        "colab": {
          "base_uri": "https://localhost:8080/"
        },
        "id": "vttZMj08_9TE",
        "outputId": "c510d175-bbd5-44f9-ab96-efc6f8eb955f"
      },
      "execution_count": 6,
      "outputs": [
        {
          "output_type": "execute_result",
          "data": {
            "text/plain": [
              "case        0\n",
              "site        0\n",
              "Pop         0\n",
              "sex         0\n",
              "age         0\n",
              "hdlngth     0\n",
              "skullw      0\n",
              "totlngth    0\n",
              "taill       0\n",
              "footlgth    0\n",
              "earconch    0\n",
              "eye         0\n",
              "chest       0\n",
              "belly       0\n",
              "dtype: int64"
            ]
          },
          "metadata": {},
          "execution_count": 6
        }
      ]
    },
    {
      "cell_type": "code",
      "source": [
        "data.shape"
      ],
      "metadata": {
        "colab": {
          "base_uri": "https://localhost:8080/"
        },
        "id": "o63zPv9S__03",
        "outputId": "56bc9f66-a653-44a7-ec3a-009b337cd258"
      },
      "execution_count": 8,
      "outputs": [
        {
          "output_type": "execute_result",
          "data": {
            "text/plain": [
              "(104, 14)"
            ]
          },
          "metadata": {},
          "execution_count": 8
        }
      ]
    },
    {
      "cell_type": "markdown",
      "source": [
        "## Numerical Data\n",
        "## Minimum, Maximum and Range"
      ],
      "metadata": {
        "id": "2Qh-8KfzAF2S"
      }
    },
    {
      "cell_type": "code",
      "source": [
        "data.min()"
      ],
      "metadata": {
        "colab": {
          "base_uri": "https://localhost:8080/"
        },
        "id": "ZIfGudM5ACv3",
        "outputId": "983bb073-a8fe-4313-be85-9ffcbb123c35"
      },
      "execution_count": 9,
      "outputs": [
        {
          "output_type": "execute_result",
          "data": {
            "text/plain": [
              "case           1\n",
              "site           1\n",
              "Pop          Vic\n",
              "sex            f\n",
              "age          1.0\n",
              "hdlngth     82.5\n",
              "skullw      50.0\n",
              "totlngth    75.0\n",
              "taill       32.0\n",
              "footlgth    60.3\n",
              "earconch    40.3\n",
              "eye         12.8\n",
              "chest       22.0\n",
              "belly       25.0\n",
              "dtype: object"
            ]
          },
          "metadata": {},
          "execution_count": 9
        }
      ]
    },
    {
      "cell_type": "code",
      "source": [
        "data.max()"
      ],
      "metadata": {
        "colab": {
          "base_uri": "https://localhost:8080/"
        },
        "id": "qrxYCGpmAMs5",
        "outputId": "7bf9a34d-ce0c-4c9b-e51f-38d5248f56b2"
      },
      "execution_count": 10,
      "outputs": [
        {
          "output_type": "execute_result",
          "data": {
            "text/plain": [
              "case          104\n",
              "site            7\n",
              "Pop         other\n",
              "sex             m\n",
              "age           9.0\n",
              "hdlngth     103.1\n",
              "skullw       68.6\n",
              "totlngth     96.5\n",
              "taill        43.0\n",
              "footlgth     77.9\n",
              "earconch     56.2\n",
              "eye          17.8\n",
              "chest        32.0\n",
              "belly        40.0\n",
              "dtype: object"
            ]
          },
          "metadata": {},
          "execution_count": 10
        }
      ]
    },
    {
      "cell_type": "code",
      "source": [
        "data.dtypes"
      ],
      "metadata": {
        "colab": {
          "base_uri": "https://localhost:8080/"
        },
        "id": "1qE7RIgwAOOl",
        "outputId": "1f714391-c0aa-4176-f0cb-1cd8c006aef0"
      },
      "execution_count": 12,
      "outputs": [
        {
          "output_type": "execute_result",
          "data": {
            "text/plain": [
              "case          int64\n",
              "site          int64\n",
              "Pop          object\n",
              "sex          object\n",
              "age         float64\n",
              "hdlngth     float64\n",
              "skullw      float64\n",
              "totlngth    float64\n",
              "taill       float64\n",
              "footlgth    float64\n",
              "earconch    float64\n",
              "eye         float64\n",
              "chest       float64\n",
              "belly       float64\n",
              "dtype: object"
            ]
          },
          "metadata": {},
          "execution_count": 12
        }
      ]
    },
    {
      "cell_type": "code",
      "source": [
        "#Getting range of all numeric columns\n",
        "\n",
        "num_data = data.select_dtypes(include = np.number)\n",
        "num_data.max() - num_data.min()"
      ],
      "metadata": {
        "colab": {
          "base_uri": "https://localhost:8080/"
        },
        "id": "69HHkUkeAPoC",
        "outputId": "3f7d5366-5f0b-4d88-efc6-514cd958d358"
      },
      "execution_count": 13,
      "outputs": [
        {
          "output_type": "execute_result",
          "data": {
            "text/plain": [
              "case        103.0\n",
              "site          6.0\n",
              "age           8.0\n",
              "hdlngth      20.6\n",
              "skullw       18.6\n",
              "totlngth     21.5\n",
              "taill        11.0\n",
              "footlgth     17.6\n",
              "earconch     15.9\n",
              "eye           5.0\n",
              "chest        10.0\n",
              "belly        15.0\n",
              "dtype: float64"
            ]
          },
          "metadata": {},
          "execution_count": 13
        }
      ]
    },
    {
      "cell_type": "markdown",
      "source": [
        "### Quartiles and Percentile"
      ],
      "metadata": {
        "id": "SwP5rm03BoYx"
      }
    },
    {
      "cell_type": "code",
      "source": [
        "#First quartile\n",
        "num_data.quantile(0.25)"
      ],
      "metadata": {
        "colab": {
          "base_uri": "https://localhost:8080/"
        },
        "id": "JlKbj4tWAS9K",
        "outputId": "ce07f710-daff-431e-9ebd-40f859598b35"
      },
      "execution_count": 14,
      "outputs": [
        {
          "output_type": "execute_result",
          "data": {
            "text/plain": [
              "case        26.750\n",
              "site         1.000\n",
              "age          2.750\n",
              "hdlngth     90.675\n",
              "skullw      54.975\n",
              "totlngth    84.000\n",
              "taill       35.875\n",
              "footlgth    64.650\n",
              "earconch    44.800\n",
              "eye         14.400\n",
              "chest       25.500\n",
              "belly       31.000\n",
              "Name: 0.25, dtype: float64"
            ]
          },
          "metadata": {},
          "execution_count": 14
        }
      ]
    },
    {
      "cell_type": "code",
      "source": [
        "#Second Quartile / Median\n",
        "num_data.quantile(0.5)"
      ],
      "metadata": {
        "colab": {
          "base_uri": "https://localhost:8080/"
        },
        "id": "7YtgO_a8Br_-",
        "outputId": "f02a856c-c296-4002-b1c3-1272638609d7"
      },
      "execution_count": 15,
      "outputs": [
        {
          "output_type": "execute_result",
          "data": {
            "text/plain": [
              "case        52.50\n",
              "site         3.00\n",
              "age          3.00\n",
              "hdlngth     92.80\n",
              "skullw      56.35\n",
              "totlngth    88.00\n",
              "taill       37.00\n",
              "footlgth    68.10\n",
              "earconch    46.80\n",
              "eye         14.90\n",
              "chest       27.00\n",
              "belly       32.50\n",
              "Name: 0.5, dtype: float64"
            ]
          },
          "metadata": {},
          "execution_count": 15
        }
      ]
    },
    {
      "cell_type": "code",
      "source": [
        "#Third Quartile\n",
        "num_data.quantile(0.75)"
      ],
      "metadata": {
        "colab": {
          "base_uri": "https://localhost:8080/"
        },
        "id": "_E0klp9-Bu6g",
        "outputId": "46708156-dabc-4be9-ed0b-af9f1c41e957"
      },
      "execution_count": 16,
      "outputs": [
        {
          "output_type": "execute_result",
          "data": {
            "text/plain": [
              "case        78.250\n",
              "site         6.000\n",
              "age          5.000\n",
              "hdlngth     94.725\n",
              "skullw      58.100\n",
              "totlngth    90.000\n",
              "taill       38.000\n",
              "footlgth    72.500\n",
              "earconch    52.000\n",
              "eye         15.725\n",
              "chest       28.000\n",
              "belly       34.125\n",
              "Name: 0.75, dtype: float64"
            ]
          },
          "metadata": {},
          "execution_count": 16
        }
      ]
    },
    {
      "cell_type": "code",
      "source": [
        "# Interquartile range\n",
        "num_data.quantile(0.75) - num_data.quantile(0.25)"
      ],
      "metadata": {
        "colab": {
          "base_uri": "https://localhost:8080/"
        },
        "id": "CKfTGAyqBx2_",
        "outputId": "871c6748-5cc9-4679-c5b6-473d69df4b74"
      },
      "execution_count": 17,
      "outputs": [
        {
          "output_type": "execute_result",
          "data": {
            "text/plain": [
              "case        51.500\n",
              "site         5.000\n",
              "age          2.250\n",
              "hdlngth      4.050\n",
              "skullw       3.125\n",
              "totlngth     6.000\n",
              "taill        2.125\n",
              "footlgth     7.850\n",
              "earconch     7.200\n",
              "eye          1.325\n",
              "chest        2.500\n",
              "belly        3.125\n",
              "dtype: float64"
            ]
          },
          "metadata": {},
          "execution_count": 17
        }
      ]
    },
    {
      "cell_type": "code",
      "source": [
        "# Getting the 60th percentile for each column\n",
        "\n",
        "pd.Series(np.percentile(num_data, 60, axis = 0), index = num_data.columns)"
      ],
      "metadata": {
        "colab": {
          "base_uri": "https://localhost:8080/"
        },
        "id": "JHzIOr4KBz-e",
        "outputId": "470ec99a-f459-4492-9902-d095935b636d"
      },
      "execution_count": 18,
      "outputs": [
        {
          "output_type": "execute_result",
          "data": {
            "text/plain": [
              "case        62.80\n",
              "site         5.00\n",
              "age          4.00\n",
              "hdlngth     93.38\n",
              "skullw      57.18\n",
              "totlngth    89.00\n",
              "taill       38.00\n",
              "footlgth    70.54\n",
              "earconch    50.60\n",
              "eye         15.10\n",
              "chest       28.00\n",
              "belly       33.00\n",
              "dtype: float64"
            ]
          },
          "metadata": {},
          "execution_count": 18
        }
      ]
    },
    {
      "cell_type": "markdown",
      "source": [
        "## Outlier Analysis\n",
        "Plotting graphs to identify outliers"
      ],
      "metadata": {
        "id": "JvIbs2VMB5Q6"
      }
    },
    {
      "cell_type": "code",
      "source": [
        "#Scatterplot showing how total length of possums vary with their head lengths\n",
        "sb.scatterplot(data = data, x = \"hdlngth\", y = \"totlngth\")"
      ],
      "metadata": {
        "colab": {
          "base_uri": "https://localhost:8080/",
          "height": 296
        },
        "id": "gaeZimGeB2iI",
        "outputId": "47968f2a-5006-4bff-dc89-3fda023ccd5a"
      },
      "execution_count": 19,
      "outputs": [
        {
          "output_type": "execute_result",
          "data": {
            "text/plain": [
              "<matplotlib.axes._subplots.AxesSubplot at 0x7f7b8bd569d0>"
            ]
          },
          "metadata": {},
          "execution_count": 19
        },
        {
          "output_type": "display_data",
          "data": {
            "text/plain": [
              "<Figure size 432x288 with 1 Axes>"
            ],
            "image/png": "[encoded data removed]"
          },
          "metadata": {
            "needs_background": "light"
          }
        }
      ]
    },
    {
      "cell_type": "markdown",
      "source": [
        "From the plot above, possums with head length outside the range (85,100) can be considered as outliers. Replacing outliers with mean values:"
      ],
      "metadata": {
        "id": "PgnczEGpCA6Y"
      }
    },
    {
      "cell_type": "code",
      "source": [
        "mean = data.loc[data[\"hdlngth\"] < 100].mean()\n",
        "data[\"hdlngth\"] = data[\"hdlngth\"].mask(data[\"hdlngth\"] > 100, mean)\n",
        "\n",
        "mean = data.loc[data[\"hdlngth\"] > 85].mean()\n",
        "data[\"hdlngth\"] = data[\"hdlngth\"].mask(data[\"hdlngth\"] < 85, mean)\n",
        "\n",
        "sb.scatterplot(data = data, x = \"hdlngth\", y = \"totlngth\")"
      ],
      "metadata": {
        "colab": {
          "base_uri": "https://localhost:8080/",
          "height": 386
        },
        "id": "7zjFHUTiB-ct",
        "outputId": "ee64d12f-968a-4328-cfdd-354a92c64d72"
      },
      "execution_count": 20,
      "outputs": [
        {
          "output_type": "stream",
          "name": "stderr",
          "text": [
            "/usr/local/lib/python3.7/dist-packages/ipykernel_launcher.py:1: FutureWarning: Dropping of nuisance columns in DataFrame reductions (with 'numeric_only=None') is deprecated; in a future version this will raise TypeError.  Select only valid columns before calling the reduction.\n",
            "  \"\"\"Entry point for launching an IPython kernel.\n",
            "/usr/local/lib/python3.7/dist-packages/ipykernel_launcher.py:4: FutureWarning: Dropping of nuisance columns in DataFrame reductions (with 'numeric_only=None') is deprecated; in a future version this will raise TypeError.  Select only valid columns before calling the reduction.\n",
            "  after removing the cwd from sys.path.\n"
          ]
        },
        {
          "output_type": "execute_result",
          "data": {
            "text/plain": [
              "<matplotlib.axes._subplots.AxesSubplot at 0x7f7b8bc7ecd0>"
            ]
          },
          "metadata": {},
          "execution_count": 20
        },
        {
          "output_type": "display_data",
          "data": {
            "text/plain": [
              "<Figure size 432x288 with 1 Axes>"
            ],
            "image/png": "[encoded data removed]"
          },
          "metadata": {
            "needs_background": "light"
          }
        }
      ]
    },
    {
      "cell_type": "markdown",
      "source": [
        "# Categorical Data\n",
        "In our data, the features \"Pop\", \"site\" and \"sex\" represent categorical data. Since our model is going to predict the age of a possum, we will have a look at the distribution of age over different categories."
      ],
      "metadata": {
        "id": "4TnAEjlXCK3I"
      }
    },
    {
      "cell_type": "code",
      "source": [
        "sb.boxplot(x=\"site\", y=\"age\", data=data ,palette=\"Set3\"); \n",
        "plt.title(\"Boxplot showing the distribution of the age of possums from different sites.\");"
      ],
      "metadata": {
        "colab": {
          "base_uri": "https://localhost:8080/",
          "height": 295
        },
        "id": "FVa6E93UCGaR",
        "outputId": "e6862d9b-8c04-49e8-c5f7-498e040349fd"
      },
      "execution_count": 21,
      "outputs": [
        {
          "output_type": "display_data",
          "data": {
            "text/plain": [
              "<Figure size 432x288 with 1 Axes>"
            ],
            "image/png": "[encoded data removed]"
          },
          "metadata": {
            "needs_background": "light"
          }
        }
      ]
    },
    {
      "cell_type": "code",
      "source": [
        "sb.boxplot(x = \"age\", y = \"Pop\", data = data, palette = \"Set3\");\n",
        "plt.title(\"Boxplot showing the distribution of the age of possums from different Pops.\");"
      ],
      "metadata": {
        "colab": {
          "base_uri": "https://localhost:8080/",
          "height": 295
        },
        "id": "mPrVTzjgCQTa",
        "outputId": "a538b7f5-12c1-46c4-b853-fcb96fc68c39"
      },
      "execution_count": 22,
      "outputs": [
        {
          "output_type": "display_data",
          "data": {
            "text/plain": [
              "<Figure size 432x288 with 1 Axes>"
            ],
            "image/png": "[encoded data removed]"
          },
          "metadata": {
            "needs_background": "light"
          }
        }
      ]
    },
    {
      "cell_type": "code",
      "source": [
        "sb.boxplot(x = \"age\", y = \"sex\", data = data, palette = \"Set3\");\n",
        "plt.title(\"Boxplot showing the distribution of the age of possums from different Pops.\");"
      ],
      "metadata": {
        "colab": {
          "base_uri": "https://localhost:8080/",
          "height": 295
        },
        "id": "pK6CORqDCTEv",
        "outputId": "6cec95c5-49c1-45a1-859b-b409fc471200"
      },
      "execution_count": 23,
      "outputs": [
        {
          "output_type": "display_data",
          "data": {
            "text/plain": [
              "<Figure size 432x288 with 1 Axes>"
            ],
            "image/png": "[encoded data removed]"
          },
          "metadata": {
            "needs_background": "light"
          }
        }
      ]
    },
    {
      "cell_type": "markdown",
      "source": [
        "# Categorical Findings\n",
        "*   Median age of male possums is lesser than that of females.\n",
        "*   Vic has much more variation in age.\n",
        "\n",
        "Since the site feature contains categorical data, we need not find the correlation between site and age of the possums. Hence, below we will convert all entries in the site column to string datatype."
      ],
      "metadata": {
        "id": "qFUDeiQNCaGk"
      }
    },
    {
      "cell_type": "code",
      "source": [
        "data['site'] = data['site'].apply(lambda x:str(x))\n",
        "data.info() #change site into string"
      ],
      "metadata": {
        "colab": {
          "base_uri": "https://localhost:8080/"
        },
        "id": "7ZKHu-jUCX5G",
        "outputId": "1f705e7d-ec5d-4747-b154-5ae0d7558c2e"
      },
      "execution_count": 24,
      "outputs": [
        {
          "output_type": "stream",
          "name": "stdout",
          "text": [
            "<class 'pandas.core.frame.DataFrame'>\n",
            "RangeIndex: 104 entries, 0 to 103\n",
            "Data columns (total 14 columns):\n",
            " #   Column    Non-Null Count  Dtype  \n",
            "---  ------    --------------  -----  \n",
            " 0   case      104 non-null    int64  \n",
            " 1   site      104 non-null    object \n",
            " 2   Pop       104 non-null    object \n",
            " 3   sex       104 non-null    object \n",
            " 4   age       104 non-null    float64\n",
            " 5   hdlngth   100 non-null    float64\n",
            " 6   skullw    104 non-null    float64\n",
            " 7   totlngth  104 non-null    float64\n",
            " 8   taill     104 non-null    float64\n",
            " 9   footlgth  104 non-null    float64\n",
            " 10  earconch  104 non-null    float64\n",
            " 11  eye       104 non-null    float64\n",
            " 12  chest     104 non-null    float64\n",
            " 13  belly     104 non-null    float64\n",
            "dtypes: float64(10), int64(1), object(3)\n",
            "memory usage: 11.5+ KB\n"
          ]
        }
      ]
    },
    {
      "cell_type": "code",
      "source": [
        "sb.histplot(data = data, x = \"hdlngth\", kde = True);\n",
        "\n",
        "# We can see that majority of possums have their head lengths in range 90-96"
      ],
      "metadata": {
        "colab": {
          "base_uri": "https://localhost:8080/",
          "height": 279
        },
        "id": "zyOQ5i_3CpmI",
        "outputId": "815979f1-a0d2-40dc-c10a-5d6af8a8595f"
      },
      "execution_count": 25,
      "outputs": [
        {
          "output_type": "display_data",
          "data": {
            "text/plain": [
              "<Figure size 432x288 with 1 Axes>"
            ],
            "image/png": "[encoded data removed]"
          },
          "metadata": {
            "needs_background": "light"
          }
        }
      ]
    },
    {
      "cell_type": "code",
      "source": [
        "sb.histplot(data = data, x = \"totlngth\", hue = \"Pop\", kde = True)\n",
        "# Hence, the median total length of Victorian possums is more."
      ],
      "metadata": {
        "colab": {
          "base_uri": "https://localhost:8080/",
          "height": 296
        },
        "id": "xJjNJ4sdCrxr",
        "outputId": "80da5a4e-42c1-4513-84e0-3ac97001b965"
      },
      "execution_count": 26,
      "outputs": [
        {
          "output_type": "execute_result",
          "data": {
            "text/plain": [
              "<matplotlib.axes._subplots.AxesSubplot at 0x7f7b8b586d90>"
            ]
          },
          "metadata": {},
          "execution_count": 26
        },
        {
          "output_type": "display_data",
          "data": {
            "text/plain": [
              "<Figure size 432x288 with 1 Axes>"
            ],
            "image/png": "[encoded data removed]"
          },
          "metadata": {
            "needs_background": "light"
          }
        }
      ]
    },
    {
      "cell_type": "markdown",
      "source": [
        "## Correlation between numerical features and age\n",
        "To get an idea about the correlation between numerical features and age, we'll be using a heatmap"
      ],
      "metadata": {
        "id": "w_si7LleCxUy"
      }
    },
    {
      "cell_type": "code",
      "source": [
        "fig,ax = plt.subplots(figsize=(15,15))\n",
        "sb.heatmap(data.corr(),annot=True)\n",
        "plt.show()"
      ],
      "metadata": {
        "colab": {
          "base_uri": "https://localhost:8080/",
          "height": 887
        },
        "id": "d5P2cSeACunr",
        "outputId": "a9fcc77a-498f-4290-debf-04bb86ca5202"
      },
      "execution_count": 27,
      "outputs": [
        {
          "output_type": "display_data",
          "data": {
            "text/plain": [
              "<Figure size 1080x1080 with 2 Axes>"
            ],
            "image/png": "[encoded data removed]"
          },
          "metadata": {
            "needs_background": "light"
          }
        }
      ]
    },
    {
      "cell_type": "markdown",
      "source": [
        "From the heat map, it is evident that the age of the possum has the highest correlation with the belly size while its has th lowest correlation with earconch (we ignore the \"case\" column as it is used as a primary key).\n",
        "\n",
        "Moreover, since none of the features have significantly low correlation with age, we cannot discard any of them."
      ],
      "metadata": {
        "id": "nEYWTOgzC51A"
      }
    },
    {
      "cell_type": "code",
      "source": [
        "# Lets separate our numerical and categorical columns\n",
        "\n",
        "cat_cols = ['site', 'Pop', 'sex']\n",
        "num_cols = list(set(data.columns).difference(set(cat_cols)))\n",
        "num_cols.pop()\n",
        "num_cols"
      ],
      "metadata": {
        "colab": {
          "base_uri": "https://localhost:8080/"
        },
        "id": "idBkVMM8C2uX",
        "outputId": "4ede8baa-8c7e-4012-96c0-daebcc2c017e"
      },
      "execution_count": 28,
      "outputs": [
        {
          "output_type": "execute_result",
          "data": {
            "text/plain": [
              "['totlngth',\n",
              " 'hdlngth',\n",
              " 'case',\n",
              " 'taill',\n",
              " 'earconch',\n",
              " 'belly',\n",
              " 'age',\n",
              " 'chest',\n",
              " 'footlgth',\n",
              " 'skullw']"
            ]
          },
          "metadata": {},
          "execution_count": 28
        }
      ]
    },
    {
      "cell_type": "markdown",
      "source": [
        "# Handling missing data\n",
        "Since there is missing data in only three entries (rows), we can simply drop them as the effect on our predicitions will be really low."
      ],
      "metadata": {
        "id": "wyH1dUvFDLJJ"
      }
    },
    {
      "cell_type": "code",
      "source": [
        "data.dropna(axis=0,inplace=True)\n",
        "data.info()"
      ],
      "metadata": {
        "colab": {
          "base_uri": "https://localhost:8080/"
        },
        "id": "7OWUNC0PDJDW",
        "outputId": "5fdad13b-4411-40bc-f125-cfb49d9aa8b6"
      },
      "execution_count": 29,
      "outputs": [
        {
          "output_type": "stream",
          "name": "stdout",
          "text": [
            "<class 'pandas.core.frame.DataFrame'>\n",
            "Int64Index: 100 entries, 0 to 103\n",
            "Data columns (total 14 columns):\n",
            " #   Column    Non-Null Count  Dtype  \n",
            "---  ------    --------------  -----  \n",
            " 0   case      100 non-null    int64  \n",
            " 1   site      100 non-null    object \n",
            " 2   Pop       100 non-null    object \n",
            " 3   sex       100 non-null    object \n",
            " 4   age       100 non-null    float64\n",
            " 5   hdlngth   100 non-null    float64\n",
            " 6   skullw    100 non-null    float64\n",
            " 7   totlngth  100 non-null    float64\n",
            " 8   taill     100 non-null    float64\n",
            " 9   footlgth  100 non-null    float64\n",
            " 10  earconch  100 non-null    float64\n",
            " 11  eye       100 non-null    float64\n",
            " 12  chest     100 non-null    float64\n",
            " 13  belly     100 non-null    float64\n",
            "dtypes: float64(10), int64(1), object(3)\n",
            "memory usage: 11.7+ KB\n"
          ]
        }
      ]
    },
    {
      "cell_type": "markdown",
      "source": [
        "## Linear Regression Model\n",
        "Objective: To create a model that predicts the age of a possum given a set of features."
      ],
      "metadata": {
        "id": "9kuMPahGDR2D"
      }
    },
    {
      "cell_type": "code",
      "source": [
        "X = data\n",
        "X = X.drop('case', axis = 1)\n",
        "X = X.drop('age', axis = 1)\n",
        "y = data['age']\n",
        "X.columns"
      ],
      "metadata": {
        "colab": {
          "base_uri": "https://localhost:8080/"
        },
        "id": "Jwi1SiSADPlL",
        "outputId": "88fd974b-ccbc-4ec3-f97f-af56be087ba8"
      },
      "execution_count": 30,
      "outputs": [
        {
          "output_type": "execute_result",
          "data": {
            "text/plain": [
              "Index(['site', 'Pop', 'sex', 'hdlngth', 'skullw', 'totlngth', 'taill',\n",
              "       'footlgth', 'earconch', 'eye', 'chest', 'belly'],\n",
              "      dtype='object')"
            ]
          },
          "metadata": {},
          "execution_count": 30
        }
      ]
    },
    {
      "cell_type": "code",
      "source": [
        "#One-Hot encoding to make use of the categorical data possible\n",
        "X = pd.get_dummies(X)\n",
        "X"
      ],
      "metadata": {
        "colab": {
          "base_uri": "https://localhost:8080/",
          "height": 488
        },
        "id": "MW0BMljjDV7N",
        "outputId": "3b7ab896-b209-426b-c983-9c5eb4c5822e"
      },
      "execution_count": 31,
      "outputs": [
        {
          "output_type": "execute_result",
          "data": {
            "text/plain": [
              "     hdlngth  skullw  totlngth  taill  footlgth  earconch   eye  chest  belly  \\\n",
              "0       94.1    60.4      89.0   36.0      74.5      54.5  15.2   28.0   36.0   \n",
              "1       92.5    57.6      91.5   36.5      72.5      51.2  16.0   28.5   33.0   \n",
              "2       94.0    60.0      95.5   39.0      75.4      51.9  15.5   30.0   34.0   \n",
              "3       93.2    57.1      92.0   38.0      76.1      52.2  15.2   28.0   34.0   \n",
              "4       91.5    56.3      85.5   36.0      71.0      53.2  15.1   28.5   33.0   \n",
              "..       ...     ...       ...    ...       ...       ...   ...    ...    ...   \n",
              "99      89.5    56.0      81.5   36.5      66.0      46.8  14.8   23.0   27.0   \n",
              "100     88.6    54.7      82.5   39.0      64.4      48.0  14.0   25.0   33.0   \n",
              "101     92.4    55.0      89.0   38.0      63.5      45.4  13.0   25.0   30.0   \n",
              "102     91.5    55.2      82.5   36.5      62.9      45.9  15.4   25.0   29.0   \n",
              "103     93.6    59.9      89.0   40.0      67.6      46.0  14.8   28.5   33.5   \n",
              "\n",
              "     site_1  site_2  site_3  site_4  site_5  site_6  site_7  Pop_Vic  \\\n",
              "0         1       0       0       0       0       0       0        1   \n",
              "1         1       0       0       0       0       0       0        1   \n",
              "2         1       0       0       0       0       0       0        1   \n",
              "3         1       0       0       0       0       0       0        1   \n",
              "4         1       0       0       0       0       0       0        1   \n",
              "..      ...     ...     ...     ...     ...     ...     ...      ...   \n",
              "99        0       0       0       0       0       0       1        0   \n",
              "100       0       0       0       0       0       0       1        0   \n",
              "101       0       0       0       0       0       0       1        0   \n",
              "102       0       0       0       0       0       0       1        0   \n",
              "103       0       0       0       0       0       0       1        0   \n",
              "\n",
              "     Pop_other  sex_f  sex_m  \n",
              "0            0      0      1  \n",
              "1            0      1      0  \n",
              "2            0      1      0  \n",
              "3            0      1      0  \n",
              "4            0      1      0  \n",
              "..         ...    ...    ...  \n",
              "99           1      0      1  \n",
              "100          1      0      1  \n",
              "101          1      1      0  \n",
              "102          1      0      1  \n",
              "103          1      1      0  \n",
              "\n",
              "[100 rows x 20 columns]"
            ],
            "text/html": [
              "\n",
              "  <div id=\"df-270c13f5-14df-42d3-9597-a08d14379d79\">\n",
              "    <div class=\"colab-df-container\">\n",
              "      <div>\n",
              "<style scoped>\n",
              "    .dataframe tbody tr th:only-of-type {\n",
              "        vertical-align: middle;\n",
              "    }\n",
              "\n",
              "    .dataframe tbody tr th {\n",
              "        vertical-align: top;\n",
              "    }\n",
              "\n",
              "    .dataframe thead th {\n",
              "        text-align: right;\n",
              "    }\n",
              "</style>\n",
              "<table border=\"1\" class=\"dataframe\">\n",
              "  <thead>\n",
              "    <tr style=\"text-align: right;\">\n",
              "      <th></th>\n",
              "      <th>hdlngth</th>\n",
              "      <th>skullw</th>\n",
              "      <th>totlngth</th>\n",
              "      <th>taill</th>\n",
              "      <th>footlgth</th>\n",
              "      <th>earconch</th>\n",
              "      <th>eye</th>\n",
              "      <th>chest</th>\n",
              "      <th>belly</th>\n",
              "      <th>site_1</th>\n",
              "      <th>site_2</th>\n",
              "      <th>site_3</th>\n",
              "      <th>site_4</th>\n",
              "      <th>site_5</th>\n",
              "      <th>site_6</th>\n",
              "      <th>site_7</th>\n",
              "      <th>Pop_Vic</th>\n",
              "      <th>Pop_other</th>\n",
              "      <th>sex_f</th>\n",
              "      <th>sex_m</th>\n",
              "    </tr>\n",
              "  </thead>\n",
              "  <tbody>\n",
              "    <tr>\n",
              "      <th>0</th>\n",
              "      <td>94.1</td>\n",
              "      <td>60.4</td>\n",
              "      <td>89.0</td>\n",
              "      <td>36.0</td>\n",
              "      <td>74.5</td>\n",
              "      <td>54.5</td>\n",
              "      <td>15.2</td>\n",
              "      <td>28.0</td>\n",
              "      <td>36.0</td>\n",
              "      <td>1</td>\n",
              "      <td>0</td>\n",
              "      <td>0</td>\n",
              "      <td>0</td>\n",
              "      <td>0</td>\n",
              "      <td>0</td>\n",
              "      <td>0</td>\n",
              "      <td>1</td>\n",
              "      <td>0</td>\n",
              "      <td>0</td>\n",
              "      <td>1</td>\n",
              "    </tr>\n",
              "    <tr>\n",
              "      <th>1</th>\n",
              "      <td>92.5</td>\n",
              "      <td>57.6</td>\n",
              "      <td>91.5</td>\n",
              "      <td>36.5</td>\n",
              "      <td>72.5</td>\n",
              "      <td>51.2</td>\n",
              "      <td>16.0</td>\n",
              "      <td>28.5</td>\n",
              "      <td>33.0</td>\n",
              "      <td>1</td>\n",
              "      <td>0</td>\n",
              "      <td>0</td>\n",
              "      <td>0</td>\n",
              "      <td>0</td>\n",
              "      <td>0</td>\n",
              "      <td>0</td>\n",
              "      <td>1</td>\n",
              "      <td>0</td>\n",
              "      <td>1</td>\n",
              "      <td>0</td>\n",
              "    </tr>\n",
              "    <tr>\n",
              "      <th>2</th>\n",
              "      <td>94.0</td>\n",
              "      <td>60.0</td>\n",
              "      <td>95.5</td>\n",
              "      <td>39.0</td>\n",
              "      <td>75.4</td>\n",
              "      <td>51.9</td>\n",
              "      <td>15.5</td>\n",
              "      <td>30.0</td>\n",
              "      <td>34.0</td>\n",
              "      <td>1</td>\n",
              "      <td>0</td>\n",
              "      <td>0</td>\n",
              "      <td>0</td>\n",
              "      <td>0</td>\n",
              "      <td>0</td>\n",
              "      <td>0</td>\n",
              "      <td>1</td>\n",
              "      <td>0</td>\n",
              "      <td>1</td>\n",
              "      <td>0</td>\n",
              "    </tr>\n",
              "    <tr>\n",
              "      <th>3</th>\n",
              "      <td>93.2</td>\n",
              "      <td>57.1</td>\n",
              "      <td>92.0</td>\n",
              "      <td>38.0</td>\n",
              "      <td>76.1</td>\n",
              "      <td>52.2</td>\n",
              "      <td>15.2</td>\n",
              "      <td>28.0</td>\n",
              "      <td>34.0</td>\n",
              "      <td>1</td>\n",
              "      <td>0</td>\n",
              "      <td>0</td>\n",
              "      <td>0</td>\n",
              "      <td>0</td>\n",
              "      <td>0</td>\n",
              "      <td>0</td>\n",
              "      <td>1</td>\n",
              "      <td>0</td>\n",
              "      <td>1</td>\n",
              "      <td>0</td>\n",
              "    </tr>\n",
              "    <tr>\n",
              "      <th>4</th>\n",
              "      <td>91.5</td>\n",
              "      <td>56.3</td>\n",
              "      <td>85.5</td>\n",
              "      <td>36.0</td>\n",
              "      <td>71.0</td>\n",
              "      <td>53.2</td>\n",
              "      <td>15.1</td>\n",
              "      <td>28.5</td>\n",
              "      <td>33.0</td>\n",
              "      <td>1</td>\n",
              "      <td>0</td>\n",
              "      <td>0</td>\n",
              "      <td>0</td>\n",
              "      <td>0</td>\n",
              "      <td>0</td>\n",
              "      <td>0</td>\n",
              "      <td>1</td>\n",
              "      <td>0</td>\n",
              "      <td>1</td>\n",
              "      <td>0</td>\n",
              "    </tr>\n",
              "    <tr>\n",
              "      <th>...</th>\n",
              "      <td>...</td>\n",
              "      <td>...</td>\n",
              "      <td>...</td>\n",
              "      <td>...</td>\n",
              "      <td>...</td>\n",
              "      <td>...</td>\n",
              "      <td>...</td>\n",
              "      <td>...</td>\n",
              "      <td>...</td>\n",
              "      <td>...</td>\n",
              "      <td>...</td>\n",
              "      <td>...</td>\n",
              "      <td>...</td>\n",
              "      <td>...</td>\n",
              "      <td>...</td>\n",
              "      <td>...</td>\n",
              "      <td>...</td>\n",
              "      <td>...</td>\n",
              "      <td>...</td>\n",
              "      <td>...</td>\n",
              "    </tr>\n",
              "    <tr>\n",
              "      <th>99</th>\n",
              "      <td>89.5</td>\n",
              "      <td>56.0</td>\n",
              "      <td>81.5</td>\n",
              "      <td>36.5</td>\n",
              "      <td>66.0</td>\n",
              "      <td>46.8</td>\n",
              "      <td>14.8</td>\n",
              "      <td>23.0</td>\n",
              "      <td>27.0</td>\n",
              "      <td>0</td>\n",
              "      <td>0</td>\n",
              "      <td>0</td>\n",
              "      <td>0</td>\n",
              "      <td>0</td>\n",
              "      <td>0</td>\n",
              "      <td>1</td>\n",
              "      <td>0</td>\n",
              "      <td>1</td>\n",
              "      <td>0</td>\n",
              "      <td>1</td>\n",
              "    </tr>\n",
              "    <tr>\n",
              "      <th>100</th>\n",
              "      <td>88.6</td>\n",
              "      <td>54.7</td>\n",
              "      <td>82.5</td>\n",
              "      <td>39.0</td>\n",
              "      <td>64.4</td>\n",
              "      <td>48.0</td>\n",
              "      <td>14.0</td>\n",
              "      <td>25.0</td>\n",
              "      <td>33.0</td>\n",
              "      <td>0</td>\n",
              "      <td>0</td>\n",
              "      <td>0</td>\n",
              "      <td>0</td>\n",
              "      <td>0</td>\n",
              "      <td>0</td>\n",
              "      <td>1</td>\n",
              "      <td>0</td>\n",
              "      <td>1</td>\n",
              "      <td>0</td>\n",
              "      <td>1</td>\n",
              "    </tr>\n",
              "    <tr>\n",
              "      <th>101</th>\n",
              "      <td>92.4</td>\n",
              "      <td>55.0</td>\n",
              "      <td>89.0</td>\n",
              "      <td>38.0</td>\n",
              "      <td>63.5</td>\n",
              "      <td>45.4</td>\n",
              "      <td>13.0</td>\n",
              "      <td>25.0</td>\n",
              "      <td>30.0</td>\n",
              "      <td>0</td>\n",
              "      <td>0</td>\n",
              "      <td>0</td>\n",
              "      <td>0</td>\n",
              "      <td>0</td>\n",
              "      <td>0</td>\n",
              "      <td>1</td>\n",
              "      <td>0</td>\n",
              "      <td>1</td>\n",
              "      <td>1</td>\n",
              "      <td>0</td>\n",
              "    </tr>\n",
              "    <tr>\n",
              "      <th>102</th>\n",
              "      <td>91.5</td>\n",
              "      <td>55.2</td>\n",
              "      <td>82.5</td>\n",
              "      <td>36.5</td>\n",
              "      <td>62.9</td>\n",
              "      <td>45.9</td>\n",
              "      <td>15.4</td>\n",
              "      <td>25.0</td>\n",
              "      <td>29.0</td>\n",
              "      <td>0</td>\n",
              "      <td>0</td>\n",
              "      <td>0</td>\n",
              "      <td>0</td>\n",
              "      <td>0</td>\n",
              "      <td>0</td>\n",
              "      <td>1</td>\n",
              "      <td>0</td>\n",
              "      <td>1</td>\n",
              "      <td>0</td>\n",
              "      <td>1</td>\n",
              "    </tr>\n",
              "    <tr>\n",
              "      <th>103</th>\n",
              "      <td>93.6</td>\n",
              "      <td>59.9</td>\n",
              "      <td>89.0</td>\n",
              "      <td>40.0</td>\n",
              "      <td>67.6</td>\n",
              "      <td>46.0</td>\n",
              "      <td>14.8</td>\n",
              "      <td>28.5</td>\n",
              "      <td>33.5</td>\n",
              "      <td>0</td>\n",
              "      <td>0</td>\n",
              "      <td>0</td>\n",
              "      <td>0</td>\n",
              "      <td>0</td>\n",
              "      <td>0</td>\n",
              "      <td>1</td>\n",
              "      <td>0</td>\n",
              "      <td>1</td>\n",
              "      <td>1</td>\n",
              "      <td>0</td>\n",
              "    </tr>\n",
              "  </tbody>\n",
              "</table>\n",
              "<p>100 rows × 20 columns</p>\n",
              "</div>\n",
              "      <button class=\"colab-df-convert\" onclick=\"convertToInteractive('df-270c13f5-14df-42d3-9597-a08d14379d79')\"\n",
              "              title=\"Convert this dataframe to an interactive table.\"\n",
              "              style=\"display:none;\">\n",
              "        \n",
              "  <svg xmlns=\"http://www.w3.org/2000/svg\" height=\"24px\"viewBox=\"0 0 24 24\"\n",
              "       width=\"24px\">\n",
              "    <path d=\"M0 0h24v24H0V0z\" fill=\"none\"/>\n",
              "    <path d=\"M18.56 5.44l.94 2.06.94-2.06 2.06-.94-2.06-.94-.94-2.06-.94 2.06-2.06.94zm-11 1L8.5 8.5l.94-2.06 2.06-.94-2.06-.94L8.5 2.5l-.94 2.06-2.06.94zm10 10l.94 2.06.94-2.06 2.06-.94-2.06-.94-.94-2.06-.94 2.06-2.06.94z\"/><path d=\"M17.41 7.96l-1.37-1.37c-.4-.4-.92-.59-1.43-.59-.52 0-1.04.2-1.43.59L10.3 9.45l-7.72 7.72c-.78.78-.78 2.05 0 2.83L4 21.41c.39.39.9.59 1.41.59.51 0 1.02-.2 1.41-.59l7.78-7.78 2.81-2.81c.8-.78.8-2.07 0-2.86zM5.41 20L4 18.59l7.72-7.72 1.47 1.35L5.41 20z\"/>\n",
              "  </svg>\n",
              "      </button>\n",
              "      \n",
              "  <style>\n",
              "    .colab-df-container {\n",
              "      display:flex;\n",
              "      flex-wrap:wrap;\n",
              "      gap: 12px;\n",
              "    }\n",
              "\n",
              "    .colab-df-convert {\n",
              "      background-color: #E8F0FE;\n",
              "      border: none;\n",
              "      border-radius: 50%;\n",
              "      cursor: pointer;\n",
              "      display: none;\n",
              "      fill: #1967D2;\n",
              "      height: 32px;\n",
              "      padding: 0 0 0 0;\n",
              "      width: 32px;\n",
              "    }\n",
              "\n",
              "    .colab-df-convert:hover {\n",
              "      background-color: #E2EBFA;\n",
              "      box-shadow: 0px 1px 2px rgba(60, 64, 67, 0.3), 0px 1px 3px 1px rgba(60, 64, 67, 0.15);\n",
              "      fill: #174EA6;\n",
              "    }\n",
              "\n",
              "    [theme=dark] .colab-df-convert {\n",
              "      background-color: #3B4455;\n",
              "      fill: #D2E3FC;\n",
              "    }\n",
              "\n",
              "    [theme=dark] .colab-df-convert:hover {\n",
              "      background-color: #434B5C;\n",
              "      box-shadow: 0px 1px 3px 1px rgba(0, 0, 0, 0.15);\n",
              "      filter: drop-shadow(0px 1px 2px rgba(0, 0, 0, 0.3));\n",
              "      fill: #FFFFFF;\n",
              "    }\n",
              "  </style>\n",
              "\n",
              "      <script>\n",
              "        const buttonEl =\n",
              "          document.querySelector('#df-270c13f5-14df-42d3-9597-a08d14379d79 button.colab-df-convert');\n",
              "        buttonEl.style.display =\n",
              "          google.colab.kernel.accessAllowed ? 'block' : 'none';\n",
              "\n",
              "        async function convertToInteractive(key) {\n",
              "          const element = document.querySelector('#df-270c13f5-14df-42d3-9597-a08d14379d79');\n",
              "          const dataTable =\n",
              "            await google.colab.kernel.invokeFunction('convertToInteractive',\n",
              "                                                     [key], {});\n",
              "          if (!dataTable) return;\n",
              "\n",
              "          const docLinkHtml = 'Like what you see? Visit the ' +\n",
              "            '<a target=\"_blank\" href=https://colab.research.google.com/notebooks/data_table.ipynb>data table notebook</a>'\n",
              "            + ' to learn more about interactive tables.';\n",
              "          element.innerHTML = '';\n",
              "          dataTable['output_type'] = 'display_data';\n",
              "          await google.colab.output.renderOutput(dataTable, element);\n",
              "          const docLink = document.createElement('div');\n",
              "          docLink.innerHTML = docLinkHtml;\n",
              "          element.appendChild(docLink);\n",
              "        }\n",
              "      </script>\n",
              "    </div>\n",
              "  </div>\n",
              "  "
            ]
          },
          "metadata": {},
          "execution_count": 31
        }
      ]
    },
    {
      "cell_type": "code",
      "source": [
        "from sklearn.linear_model import LinearRegression\n",
        "from sklearn.model_selection import train_test_split\n",
        "from sklearn.metrics import mean_squared_error\n",
        "\n",
        "X_train, X_test, y_train, y_test = train_test_split(X, y,test_size=0.3, random_state=42)"
      ],
      "metadata": {
        "id": "ow1YQ4rXDY4d"
      },
      "execution_count": 32,
      "outputs": []
    },
    {
      "cell_type": "code",
      "source": [
        "model = LinearRegression()\n",
        "model.fit(X_train, y_train)\n",
        "predictions = model.predict(X_test)"
      ],
      "metadata": {
        "id": "A-7kKKH2De8d"
      },
      "execution_count": 33,
      "outputs": []
    },
    {
      "cell_type": "code",
      "source": [
        "print(f'RMSE:{np.sqrt(mean_squared_error(y_test, predictions))}')\n",
        "print(f'Standard Deviation of Age:{data.age.std()}')"
      ],
      "metadata": {
        "colab": {
          "base_uri": "https://localhost:8080/"
        },
        "id": "i0NCRswIDgzC",
        "outputId": "0e8359a2-13cc-45de-82a7-22387d4df578"
      },
      "execution_count": 34,
      "outputs": [
        {
          "output_type": "stream",
          "name": "stdout",
          "text": [
            "RMSE:1.7836900949555288\n",
            "Standard Deviation of Age:1.8654697942638705\n"
          ]
        }
      ]
    },
    {
      "cell_type": "code",
      "source": [
        ""
      ],
      "metadata": {
        "id": "id2R98XIDisJ"
      },
      "execution_count": null,
      "outputs": []
    }
  ]
}