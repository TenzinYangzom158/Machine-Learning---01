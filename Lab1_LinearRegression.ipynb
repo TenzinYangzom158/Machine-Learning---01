{
  "nbformat": 4,
  "nbformat_minor": 0,
  "metadata": {
    "colab": {
      "name": "Lab1_LinearRegression.ipynb",
      "provenance": [],
      "collapsed_sections": [],
      "authorship_tag": "ABX9TyMhlnQCbNm8/TdxIgzIUiVJ",
      "include_colab_link": true
    },
    "kernelspec": {
      "name": "python3",
      "display_name": "Python 3"
    },
    "language_info": {
      "name": "python"
    }
  },
  "cells": [
    {
      "cell_type": "markdown",
      "metadata": {
        "id": "view-in-github",
        "colab_type": "text"
      },
      "source": [
        "<a href=\"https://colab.research.google.com/github/TenzinYangzom158/Machine-Learning---01/blob/main/Lab1_LinearRegression.ipynb\" target=\"_parent\"><img src=\"https://colab.research.google.com/assets/colab-badge.svg\" alt=\"Open In Colab\"/></a>"
      ]
    },
    {
      "cell_type": "markdown",
      "source": [
        "**Tenzin Yangzom** \n",
        "**2147158**\n",
        "**Machine Learning**"
      ],
      "metadata": {
        "id": "6GdUoNf9R31L"
      }
    },
    {
      "cell_type": "markdown",
      "source": [
        "Simple Linear Regression"
      ],
      "metadata": {
        "id": "s7U-_a8FSHad"
      }
    },
    {
      "cell_type": "markdown",
      "source": [
        "Example of Pizza Price increase with its diameter (Sir's example)"
      ],
      "metadata": {
        "id": "xPhE7-6VStsn"
      }
    },
    {
      "cell_type": "code",
      "execution_count": 1,
      "metadata": {
        "colab": {
          "base_uri": "https://localhost:8080/",
          "height": 312
        },
        "id": "uUSmSL9ZRfC8",
        "outputId": "56c1e3bd-8225-4023-9aec-ff0b3088ae7c"
      },
      "outputs": [
        {
          "output_type": "stream",
          "name": "stdout",
          "text": [
            "Predicted price =  [[22.46767241]]\n"
          ]
        },
        {
          "output_type": "display_data",
          "data": {
            "text/plain": [
              "<Figure size 432x288 with 1 Axes>"
            ],
            "image/png": "[encoded data removed]"
          },
          "metadata": {
            "needs_background": "light"
          }
        }
      ],
      "source": [
        "import matplotlib.pyplot as plt\n",
        "from sklearn.linear_model import LinearRegression\n",
        "x = [[6], [8], [10], [14], [18]]\n",
        "y = [[7], [9], [13], [17.5], [18]]\n",
        "model = LinearRegression()\n",
        "model.fit(x,y)\n",
        "plt.figure()\n",
        "plt.title(\"Pizza price statistics\")\n",
        "plt.xlabel(\"Diameter (inches)\")\n",
        "plt.ylabel(\"Price (dollars)\")\n",
        "plt.plot(x,y,'.')\n",
        "plt.plot(x,model.predict(x),'--')\n",
        "plt.axis([0,25,0,25])\n",
        "plt.grid(True)\n",
        "print (\"Predicted price = \",model.predict([[21]])) # 22.467\n",
        "plt.show()"
      ]
    },
    {
      "cell_type": "markdown",
      "source": [
        "R squared"
      ],
      "metadata": {
        "id": "ZcpqHnWDSR7S"
      }
    },
    {
      "cell_type": "code",
      "source": [
        "from sklearn.linear_model import LinearRegression\n",
        "import numpy as np\n",
        "from numpy.linalg import inv,lstsq\n",
        "from numpy import dot, transpose\n",
        "x = [[6], [8], [10], [14], [18]]\n",
        "y = [[7], [9], [13], [17.5], [18]]\n",
        "model = LinearRegression()\n",
        "\n",
        "model.fit(x,y)\n",
        "x_test = [[8], [9], [11], [16], [12]]\n",
        "y_test = [[11], [8.5], [15], [18], [11]]\n",
        "print (\"Score = \",model.score(x_test, y_test))"
      ],
      "metadata": {
        "colab": {
          "base_uri": "https://localhost:8080/"
        },
        "id": "RkGQFgl9SNAu",
        "outputId": "a20570d6-8c95-4789-de52-d29f7b7daa2a"
      },
      "execution_count": 2,
      "outputs": [
        {
          "output_type": "stream",
          "name": "stdout",
          "text": [
            "Score =  0.6620052929422553\n"
          ]
        }
      ]
    },
    {
      "cell_type": "markdown",
      "source": [
        "Multiple Regression"
      ],
      "metadata": {
        "id": "sc4hRE6ISbSz"
      }
    },
    {
      "cell_type": "code",
      "source": [
        "from sklearn.linear_model import LinearRegression\n",
        "from numpy.linalg import lstsq\n",
        "import numpy as np\n",
        "x = [[6, 2], [8, 1], [10, 0], [14, 2], [18, 0]]\n",
        "y = [[7], [9], [13], [17.5], [18]]\n",
        "model = LinearRegression()\n",
        "model.fit(x,y)\n",
        "x1 = [[8, 2], [9, 0], [11, 2], [16, 2], [12, 0]]\n",
        "y1 = [[11], [8.5], [15], [18], [11]]\n",
        "predictions = model.predict([[8, 2], [9, 0], [12, 0]])\n",
        "print (\"values of Predictions: \",predictions)\n",
        "print (\"values of β1, β2: \",lstsq(x, y, rcond=None)[0])\n",
        "#least-squares solution to find best regression line\n",
        "#It is a cut-off ratio for smaller singular values of x and Y\n",
        "print (\"Score = \",model.score(x1, y1))"
      ],
      "metadata": {
        "colab": {
          "base_uri": "https://localhost:8080/"
        },
        "id": "bJqb5VfLSV8b",
        "outputId": "31d4caa5-61dc-4544-d227-236d75bb2dd4"
      },
      "execution_count": 3,
      "outputs": [
        {
          "output_type": "stream",
          "name": "stdout",
          "text": [
            "values of Predictions:  [[10.0625 ]\n",
            " [10.28125]\n",
            " [13.3125 ]]\n",
            "values of β1, β2:  [[1.08548851]\n",
            " [0.65517241]]\n",
            "Score =  0.7701677731318468\n"
          ]
        }
      ]
    },
    {
      "cell_type": "markdown",
      "source": [
        "Example: Possum Dataset"
      ],
      "metadata": {
        "id": "zPQgslrFUpZY"
      }
    },
    {
      "cell_type": "code",
      "source": [
        "import pandas as pd\n",
        "import numpy as np"
      ],
      "metadata": {
        "id": "qewpb7xuSfd9"
      },
      "execution_count": 4,
      "outputs": []
    },
    {
      "cell_type": "code",
      "source": [
        "data_df = pd.read_csv('possum.csv')"
      ],
      "metadata": {
        "id": "RPmo7CrjUyWY"
      },
      "execution_count": 5,
      "outputs": []
    },
    {
      "cell_type": "code",
      "source": [
        "data_df.head()"
      ],
      "metadata": {
        "colab": {
          "base_uri": "https://localhost:8080/",
          "height": 270
        },
        "id": "kgVL2oTLU5l8",
        "outputId": "3e7ec0e4-e566-4ee6-d0a5-0cc3ba9dbe18"
      },
      "execution_count": 7,
      "outputs": [
        {
          "output_type": "execute_result",
          "data": {
            "text/plain": [
              "   case  site  Pop sex  age  hdlngth  skullw  totlngth  taill  footlgth  \\\n",
              "0     1     1  Vic   m  8.0     94.1    60.4      89.0   36.0      74.5   \n",
              "1     2     1  Vic   f  6.0     92.5    57.6      91.5   36.5      72.5   \n",
              "2     3     1  Vic   f  6.0     94.0    60.0      95.5   39.0      75.4   \n",
              "3     4     1  Vic   f  6.0     93.2    57.1      92.0   38.0      76.1   \n",
              "4     5     1  Vic   f  2.0     91.5    56.3      85.5   36.0      71.0   \n",
              "\n",
              "   earconch   eye  chest  belly  \n",
              "0      54.5  15.2   28.0   36.0  \n",
              "1      51.2  16.0   28.5   33.0  \n",
              "2      51.9  15.5   30.0   34.0  \n",
              "3      52.2  15.2   28.0   34.0  \n",
              "4      53.2  15.1   28.5   33.0  "
            ],
            "text/html": [
              "\n",
              "  <div id=\"df-1b570b73-ee17-4564-bd1e-45c84b9cd189\">\n",
              "    <div class=\"colab-df-container\">\n",
              "      <div>\n",
              "<style scoped>\n",
              "    .dataframe tbody tr th:only-of-type {\n",
              "        vertical-align: middle;\n",
              "    }\n",
              "\n",
              "    .dataframe tbody tr th {\n",
              "        vertical-align: top;\n",
              "    }\n",
              "\n",
              "    .dataframe thead th {\n",
              "        text-align: right;\n",
              "    }\n",
              "</style>\n",
              "<table border=\"1\" class=\"dataframe\">\n",
              "  <thead>\n",
              "    <tr style=\"text-align: right;\">\n",
              "      <th></th>\n",
              "      <th>case</th>\n",
              "      <th>site</th>\n",
              "      <th>Pop</th>\n",
              "      <th>sex</th>\n",
              "      <th>age</th>\n",
              "      <th>hdlngth</th>\n",
              "      <th>skullw</th>\n",
              "      <th>totlngth</th>\n",
              "      <th>taill</th>\n",
              "      <th>footlgth</th>\n",
              "      <th>earconch</th>\n",
              "      <th>eye</th>\n",
              "      <th>chest</th>\n",
              "      <th>belly</th>\n",
              "    </tr>\n",
              "  </thead>\n",
              "  <tbody>\n",
              "    <tr>\n",
              "      <th>0</th>\n",
              "      <td>1</td>\n",
              "      <td>1</td>\n",
              "      <td>Vic</td>\n",
              "      <td>m</td>\n",
              "      <td>8.0</td>\n",
              "      <td>94.1</td>\n",
              "      <td>60.4</td>\n",
              "      <td>89.0</td>\n",
              "      <td>36.0</td>\n",
              "      <td>74.5</td>\n",
              "      <td>54.5</td>\n",
              "      <td>15.2</td>\n",
              "      <td>28.0</td>\n",
              "      <td>36.0</td>\n",
              "    </tr>\n",
              "    <tr>\n",
              "      <th>1</th>\n",
              "      <td>2</td>\n",
              "      <td>1</td>\n",
              "      <td>Vic</td>\n",
              "      <td>f</td>\n",
              "      <td>6.0</td>\n",
              "      <td>92.5</td>\n",
              "      <td>57.6</td>\n",
              "      <td>91.5</td>\n",
              "      <td>36.5</td>\n",
              "      <td>72.5</td>\n",
              "      <td>51.2</td>\n",
              "      <td>16.0</td>\n",
              "      <td>28.5</td>\n",
              "      <td>33.0</td>\n",
              "    </tr>\n",
              "    <tr>\n",
              "      <th>2</th>\n",
              "      <td>3</td>\n",
              "      <td>1</td>\n",
              "      <td>Vic</td>\n",
              "      <td>f</td>\n",
              "      <td>6.0</td>\n",
              "      <td>94.0</td>\n",
              "      <td>60.0</td>\n",
              "      <td>95.5</td>\n",
              "      <td>39.0</td>\n",
              "      <td>75.4</td>\n",
              "      <td>51.9</td>\n",
              "      <td>15.5</td>\n",
              "      <td>30.0</td>\n",
              "      <td>34.0</td>\n",
              "    </tr>\n",
              "    <tr>\n",
              "      <th>3</th>\n",
              "      <td>4</td>\n",
              "      <td>1</td>\n",
              "      <td>Vic</td>\n",
              "      <td>f</td>\n",
              "      <td>6.0</td>\n",
              "      <td>93.2</td>\n",
              "      <td>57.1</td>\n",
              "      <td>92.0</td>\n",
              "      <td>38.0</td>\n",
              "      <td>76.1</td>\n",
              "      <td>52.2</td>\n",
              "      <td>15.2</td>\n",
              "      <td>28.0</td>\n",
              "      <td>34.0</td>\n",
              "    </tr>\n",
              "    <tr>\n",
              "      <th>4</th>\n",
              "      <td>5</td>\n",
              "      <td>1</td>\n",
              "      <td>Vic</td>\n",
              "      <td>f</td>\n",
              "      <td>2.0</td>\n",
              "      <td>91.5</td>\n",
              "      <td>56.3</td>\n",
              "      <td>85.5</td>\n",
              "      <td>36.0</td>\n",
              "      <td>71.0</td>\n",
              "      <td>53.2</td>\n",
              "      <td>15.1</td>\n",
              "      <td>28.5</td>\n",
              "      <td>33.0</td>\n",
              "    </tr>\n",
              "  </tbody>\n",
              "</table>\n",
              "</div>\n",
              "      <button class=\"colab-df-convert\" onclick=\"convertToInteractive('df-1b570b73-ee17-4564-bd1e-45c84b9cd189')\"\n",
              "              title=\"Convert this dataframe to an interactive table.\"\n",
              "              style=\"display:none;\">\n",
              "        \n",
              "  <svg xmlns=\"http://www.w3.org/2000/svg\" height=\"24px\"viewBox=\"0 0 24 24\"\n",
              "       width=\"24px\">\n",
              "    <path d=\"M0 0h24v24H0V0z\" fill=\"none\"/>\n",
              "    <path d=\"M18.56 5.44l.94 2.06.94-2.06 2.06-.94-2.06-.94-.94-2.06-.94 2.06-2.06.94zm-11 1L8.5 8.5l.94-2.06 2.06-.94-2.06-.94L8.5 2.5l-.94 2.06-2.06.94zm10 10l.94 2.06.94-2.06 2.06-.94-2.06-.94-.94-2.06-.94 2.06-2.06.94z\"/><path d=\"M17.41 7.96l-1.37-1.37c-.4-.4-.92-.59-1.43-.59-.52 0-1.04.2-1.43.59L10.3 9.45l-7.72 7.72c-.78.78-.78 2.05 0 2.83L4 21.41c.39.39.9.59 1.41.59.51 0 1.02-.2 1.41-.59l7.78-7.78 2.81-2.81c.8-.78.8-2.07 0-2.86zM5.41 20L4 18.59l7.72-7.72 1.47 1.35L5.41 20z\"/>\n",
              "  </svg>\n",
              "      </button>\n",
              "      \n",
              "  <style>\n",
              "    .colab-df-container {\n",
              "      display:flex;\n",
              "      flex-wrap:wrap;\n",
              "      gap: 12px;\n",
              "    }\n",
              "\n",
              "    .colab-df-convert {\n",
              "      background-color: #E8F0FE;\n",
              "      border: none;\n",
              "      border-radius: 50%;\n",
              "      cursor: pointer;\n",
              "      display: none;\n",
              "      fill: #1967D2;\n",
              "      height: 32px;\n",
              "      padding: 0 0 0 0;\n",
              "      width: 32px;\n",
              "    }\n",
              "\n",
              "    .colab-df-convert:hover {\n",
              "      background-color: #E2EBFA;\n",
              "      box-shadow: 0px 1px 2px rgba(60, 64, 67, 0.3), 0px 1px 3px 1px rgba(60, 64, 67, 0.15);\n",
              "      fill: #174EA6;\n",
              "    }\n",
              "\n",
              "    [theme=dark] .colab-df-convert {\n",
              "      background-color: #3B4455;\n",
              "      fill: #D2E3FC;\n",
              "    }\n",
              "\n",
              "    [theme=dark] .colab-df-convert:hover {\n",
              "      background-color: #434B5C;\n",
              "      box-shadow: 0px 1px 3px 1px rgba(0, 0, 0, 0.15);\n",
              "      filter: drop-shadow(0px 1px 2px rgba(0, 0, 0, 0.3));\n",
              "      fill: #FFFFFF;\n",
              "    }\n",
              "  </style>\n",
              "\n",
              "      <script>\n",
              "        const buttonEl =\n",
              "          document.querySelector('#df-1b570b73-ee17-4564-bd1e-45c84b9cd189 button.colab-df-convert');\n",
              "        buttonEl.style.display =\n",
              "          google.colab.kernel.accessAllowed ? 'block' : 'none';\n",
              "\n",
              "        async function convertToInteractive(key) {\n",
              "          const element = document.querySelector('#df-1b570b73-ee17-4564-bd1e-45c84b9cd189');\n",
              "          const dataTable =\n",
              "            await google.colab.kernel.invokeFunction('convertToInteractive',\n",
              "                                                     [key], {});\n",
              "          if (!dataTable) return;\n",
              "\n",
              "          const docLinkHtml = 'Like what you see? Visit the ' +\n",
              "            '<a target=\"_blank\" href=https://colab.research.google.com/notebooks/data_table.ipynb>data table notebook</a>'\n",
              "            + ' to learn more about interactive tables.';\n",
              "          element.innerHTML = '';\n",
              "          dataTable['output_type'] = 'display_data';\n",
              "          await google.colab.output.renderOutput(dataTable, element);\n",
              "          const docLink = document.createElement('div');\n",
              "          docLink.innerHTML = docLinkHtml;\n",
              "          element.appendChild(docLink);\n",
              "        }\n",
              "      </script>\n",
              "    </div>\n",
              "  </div>\n",
              "  "
            ]
          },
          "metadata": {},
          "execution_count": 7
        }
      ]
    },
    {
      "cell_type": "code",
      "source": [
        "from sklearn import preprocessing\n",
        "# Encode categorical variables to numeric as model cannot process text values.\n",
        "le = preprocessing.LabelEncoder()\n",
        "for name in data_df.columns:\n",
        "    if data_df[name].dtypes == 'O':\n",
        "        data_df[name] = data_df[name].astype(str)\n",
        "        le.fit(data_df[name])\n",
        "        data_df[name] = le.transform(data_df[name])"
      ],
      "metadata": {
        "id": "CUejyUvRXacq"
      },
      "execution_count": 16,
      "outputs": []
    },
    {
      "cell_type": "code",
      "source": [
        "# fill missing values based on probability of occurrence\n",
        "for column in data_df.columns:\n",
        "    null_vals = data_df.isnull().values\n",
        "    a, b = np.unique(data_df.values[~null_vals], return_counts = 1)\n",
        "    data_df.loc[data_df[column].isna(), column] = np.random.choice(a, data_df[column].isnull().sum(), p = b / b.sum())"
      ],
      "metadata": {
        "id": "pqTdBEttXv7W"
      },
      "execution_count": 17,
      "outputs": []
    },
    {
      "cell_type": "code",
      "source": [
        "data_df.head()"
      ],
      "metadata": {
        "colab": {
          "base_uri": "https://localhost:8080/",
          "height": 270
        },
        "id": "pwK1ERbLYAcH",
        "outputId": "c7f60537-66b1-4d32-8603-75496c7c5890"
      },
      "execution_count": 18,
      "outputs": [
        {
          "output_type": "execute_result",
          "data": {
            "text/plain": [
              "   case  site  Pop  sex  age  hdlngth  skullw  totlngth  taill  footlgth  \\\n",
              "0   1.0   1.0  0.0  1.0  8.0     94.1    60.4      89.0   36.0      74.5   \n",
              "1   2.0   1.0  0.0  0.0  6.0     92.5    57.6      91.5   36.5      72.5   \n",
              "2   3.0   1.0  0.0  0.0  6.0     94.0    60.0      95.5   39.0      75.4   \n",
              "3   4.0   1.0  0.0  0.0  6.0     93.2    57.1      92.0   38.0      76.1   \n",
              "4   5.0   1.0  0.0  0.0  2.0     91.5    56.3      85.5   36.0      71.0   \n",
              "\n",
              "   earconch   eye  chest  belly  \n",
              "0      54.5  15.2   28.0   36.0  \n",
              "1      51.2  16.0   28.5   33.0  \n",
              "2      51.9  15.5   30.0   34.0  \n",
              "3      52.2  15.2   28.0   34.0  \n",
              "4      53.2  15.1   28.5   33.0  "
            ],
            "text/html": [
              "\n",
              "  <div id=\"df-6bfb6088-7027-47bd-8333-4d8c2656edd1\">\n",
              "    <div class=\"colab-df-container\">\n",
              "      <div>\n",
              "<style scoped>\n",
              "    .dataframe tbody tr th:only-of-type {\n",
              "        vertical-align: middle;\n",
              "    }\n",
              "\n",
              "    .dataframe tbody tr th {\n",
              "        vertical-align: top;\n",
              "    }\n",
              "\n",
              "    .dataframe thead th {\n",
              "        text-align: right;\n",
              "    }\n",
              "</style>\n",
              "<table border=\"1\" class=\"dataframe\">\n",
              "  <thead>\n",
              "    <tr style=\"text-align: right;\">\n",
              "      <th></th>\n",
              "      <th>case</th>\n",
              "      <th>site</th>\n",
              "      <th>Pop</th>\n",
              "      <th>sex</th>\n",
              "      <th>age</th>\n",
              "      <th>hdlngth</th>\n",
              "      <th>skullw</th>\n",
              "      <th>totlngth</th>\n",
              "      <th>taill</th>\n",
              "      <th>footlgth</th>\n",
              "      <th>earconch</th>\n",
              "      <th>eye</th>\n",
              "      <th>chest</th>\n",
              "      <th>belly</th>\n",
              "    </tr>\n",
              "  </thead>\n",
              "  <tbody>\n",
              "    <tr>\n",
              "      <th>0</th>\n",
              "      <td>1.0</td>\n",
              "      <td>1.0</td>\n",
              "      <td>0.0</td>\n",
              "      <td>1.0</td>\n",
              "      <td>8.0</td>\n",
              "      <td>94.1</td>\n",
              "      <td>60.4</td>\n",
              "      <td>89.0</td>\n",
              "      <td>36.0</td>\n",
              "      <td>74.5</td>\n",
              "      <td>54.5</td>\n",
              "      <td>15.2</td>\n",
              "      <td>28.0</td>\n",
              "      <td>36.0</td>\n",
              "    </tr>\n",
              "    <tr>\n",
              "      <th>1</th>\n",
              "      <td>2.0</td>\n",
              "      <td>1.0</td>\n",
              "      <td>0.0</td>\n",
              "      <td>0.0</td>\n",
              "      <td>6.0</td>\n",
              "      <td>92.5</td>\n",
              "      <td>57.6</td>\n",
              "      <td>91.5</td>\n",
              "      <td>36.5</td>\n",
              "      <td>72.5</td>\n",
              "      <td>51.2</td>\n",
              "      <td>16.0</td>\n",
              "      <td>28.5</td>\n",
              "      <td>33.0</td>\n",
              "    </tr>\n",
              "    <tr>\n",
              "      <th>2</th>\n",
              "      <td>3.0</td>\n",
              "      <td>1.0</td>\n",
              "      <td>0.0</td>\n",
              "      <td>0.0</td>\n",
              "      <td>6.0</td>\n",
              "      <td>94.0</td>\n",
              "      <td>60.0</td>\n",
              "      <td>95.5</td>\n",
              "      <td>39.0</td>\n",
              "      <td>75.4</td>\n",
              "      <td>51.9</td>\n",
              "      <td>15.5</td>\n",
              "      <td>30.0</td>\n",
              "      <td>34.0</td>\n",
              "    </tr>\n",
              "    <tr>\n",
              "      <th>3</th>\n",
              "      <td>4.0</td>\n",
              "      <td>1.0</td>\n",
              "      <td>0.0</td>\n",
              "      <td>0.0</td>\n",
              "      <td>6.0</td>\n",
              "      <td>93.2</td>\n",
              "      <td>57.1</td>\n",
              "      <td>92.0</td>\n",
              "      <td>38.0</td>\n",
              "      <td>76.1</td>\n",
              "      <td>52.2</td>\n",
              "      <td>15.2</td>\n",
              "      <td>28.0</td>\n",
              "      <td>34.0</td>\n",
              "    </tr>\n",
              "    <tr>\n",
              "      <th>4</th>\n",
              "      <td>5.0</td>\n",
              "      <td>1.0</td>\n",
              "      <td>0.0</td>\n",
              "      <td>0.0</td>\n",
              "      <td>2.0</td>\n",
              "      <td>91.5</td>\n",
              "      <td>56.3</td>\n",
              "      <td>85.5</td>\n",
              "      <td>36.0</td>\n",
              "      <td>71.0</td>\n",
              "      <td>53.2</td>\n",
              "      <td>15.1</td>\n",
              "      <td>28.5</td>\n",
              "      <td>33.0</td>\n",
              "    </tr>\n",
              "  </tbody>\n",
              "</table>\n",
              "</div>\n",
              "      <button class=\"colab-df-convert\" onclick=\"convertToInteractive('df-6bfb6088-7027-47bd-8333-4d8c2656edd1')\"\n",
              "              title=\"Convert this dataframe to an interactive table.\"\n",
              "              style=\"display:none;\">\n",
              "        \n",
              "  <svg xmlns=\"http://www.w3.org/2000/svg\" height=\"24px\"viewBox=\"0 0 24 24\"\n",
              "       width=\"24px\">\n",
              "    <path d=\"M0 0h24v24H0V0z\" fill=\"none\"/>\n",
              "    <path d=\"M18.56 5.44l.94 2.06.94-2.06 2.06-.94-2.06-.94-.94-2.06-.94 2.06-2.06.94zm-11 1L8.5 8.5l.94-2.06 2.06-.94-2.06-.94L8.5 2.5l-.94 2.06-2.06.94zm10 10l.94 2.06.94-2.06 2.06-.94-2.06-.94-.94-2.06-.94 2.06-2.06.94z\"/><path d=\"M17.41 7.96l-1.37-1.37c-.4-.4-.92-.59-1.43-.59-.52 0-1.04.2-1.43.59L10.3 9.45l-7.72 7.72c-.78.78-.78 2.05 0 2.83L4 21.41c.39.39.9.59 1.41.59.51 0 1.02-.2 1.41-.59l7.78-7.78 2.81-2.81c.8-.78.8-2.07 0-2.86zM5.41 20L4 18.59l7.72-7.72 1.47 1.35L5.41 20z\"/>\n",
              "  </svg>\n",
              "      </button>\n",
              "      \n",
              "  <style>\n",
              "    .colab-df-container {\n",
              "      display:flex;\n",
              "      flex-wrap:wrap;\n",
              "      gap: 12px;\n",
              "    }\n",
              "\n",
              "    .colab-df-convert {\n",
              "      background-color: #E8F0FE;\n",
              "      border: none;\n",
              "      border-radius: 50%;\n",
              "      cursor: pointer;\n",
              "      display: none;\n",
              "      fill: #1967D2;\n",
              "      height: 32px;\n",
              "      padding: 0 0 0 0;\n",
              "      width: 32px;\n",
              "    }\n",
              "\n",
              "    .colab-df-convert:hover {\n",
              "      background-color: #E2EBFA;\n",
              "      box-shadow: 0px 1px 2px rgba(60, 64, 67, 0.3), 0px 1px 3px 1px rgba(60, 64, 67, 0.15);\n",
              "      fill: #174EA6;\n",
              "    }\n",
              "\n",
              "    [theme=dark] .colab-df-convert {\n",
              "      background-color: #3B4455;\n",
              "      fill: #D2E3FC;\n",
              "    }\n",
              "\n",
              "    [theme=dark] .colab-df-convert:hover {\n",
              "      background-color: #434B5C;\n",
              "      box-shadow: 0px 1px 3px 1px rgba(0, 0, 0, 0.15);\n",
              "      filter: drop-shadow(0px 1px 2px rgba(0, 0, 0, 0.3));\n",
              "      fill: #FFFFFF;\n",
              "    }\n",
              "  </style>\n",
              "\n",
              "      <script>\n",
              "        const buttonEl =\n",
              "          document.querySelector('#df-6bfb6088-7027-47bd-8333-4d8c2656edd1 button.colab-df-convert');\n",
              "        buttonEl.style.display =\n",
              "          google.colab.kernel.accessAllowed ? 'block' : 'none';\n",
              "\n",
              "        async function convertToInteractive(key) {\n",
              "          const element = document.querySelector('#df-6bfb6088-7027-47bd-8333-4d8c2656edd1');\n",
              "          const dataTable =\n",
              "            await google.colab.kernel.invokeFunction('convertToInteractive',\n",
              "                                                     [key], {});\n",
              "          if (!dataTable) return;\n",
              "\n",
              "          const docLinkHtml = 'Like what you see? Visit the ' +\n",
              "            '<a target=\"_blank\" href=https://colab.research.google.com/notebooks/data_table.ipynb>data table notebook</a>'\n",
              "            + ' to learn more about interactive tables.';\n",
              "          element.innerHTML = '';\n",
              "          dataTable['output_type'] = 'display_data';\n",
              "          await google.colab.output.renderOutput(dataTable, element);\n",
              "          const docLink = document.createElement('div');\n",
              "          docLink.innerHTML = docLinkHtml;\n",
              "          element.appendChild(docLink);\n",
              "        }\n",
              "      </script>\n",
              "    </div>\n",
              "  </div>\n",
              "  "
            ]
          },
          "metadata": {},
          "execution_count": 18
        }
      ]
    },
    {
      "cell_type": "code",
      "source": [
        "x = data_df.drop(['age'],axis=1).values\n",
        "y = data_df['age'].values"
      ],
      "metadata": {
        "id": "-vUgaTZzU6wH"
      },
      "execution_count": 19,
      "outputs": []
    },
    {
      "cell_type": "code",
      "source": [
        "print(x)"
      ],
      "metadata": {
        "colab": {
          "base_uri": "https://localhost:8080/"
        },
        "id": "MDKLmIXhVe9l",
        "outputId": "b8a45fff-a440-411a-f592-a94846d799d5"
      },
      "execution_count": 20,
      "outputs": [
        {
          "output_type": "stream",
          "name": "stdout",
          "text": [
            "[[  1.    1.    0.  ...  15.2  28.   36. ]\n",
            " [  2.    1.    0.  ...  16.   28.5  33. ]\n",
            " [  3.    1.    0.  ...  15.5  30.   34. ]\n",
            " ...\n",
            " [102.    7.    1.  ...  13.   25.   30. ]\n",
            " [103.    7.    1.  ...  15.4  25.   29. ]\n",
            " [104.    7.    1.  ...  14.8  28.5  33.5]]\n"
          ]
        }
      ]
    },
    {
      "cell_type": "code",
      "source": [
        "print(y)"
      ],
      "metadata": {
        "colab": {
          "base_uri": "https://localhost:8080/"
        },
        "id": "TJqUhzDeVlKy",
        "outputId": "cad2b022-909e-4e1b-c218-f84128db7634"
      },
      "execution_count": 21,
      "outputs": [
        {
          "output_type": "stream",
          "name": "stdout",
          "text": [
            "[ 8.   6.   6.   6.   2.   1.   2.   6.   9.   6.   9.   5.   5.   3.\n",
            "  5.   4.   1.   2.   5.   4.   3.   3.   4.   2.   3.   7.   2.   4.\n",
            "  3.   2.   3.   4.   3.   2.   4.   7.   2.   7.   1.   3.   5.   3.\n",
            "  2.  44.5  3.  14.4  2.   5.   4.   5.   5.   6.   3.   7.   2.   3.\n",
            "  4.   3.   2.   2.   7.   3.   6.   3.   5.   3.   4.   5.   5.   7.\n",
            "  6.   1.   1.   4.   6.   5.   6.   1.   1.   1.   3.   4.   3.   3.\n",
            "  3.   3.   2.   2.   6.   3.   3.   2.   3.   7.   4.   4.   3.   5.\n",
            "  3.   1.   1.   6.   4.   3. ]\n"
          ]
        }
      ]
    },
    {
      "cell_type": "markdown",
      "source": [
        "Split the dataset in training and test set"
      ],
      "metadata": {
        "id": "Ig_LJF0yV1-w"
      }
    },
    {
      "cell_type": "code",
      "source": [
        "from sklearn.model_selection import train_test_split\n",
        "x_train, x_test, y_train, y_test = train_test_split(x,y,test_size=0.3, random_state=0)"
      ],
      "metadata": {
        "id": "xx3beppKVrO_"
      },
      "execution_count": 22,
      "outputs": []
    },
    {
      "cell_type": "markdown",
      "source": [
        "Train the model on the training set"
      ],
      "metadata": {
        "id": "NYd_Xgb0WnFn"
      }
    },
    {
      "cell_type": "code",
      "source": [
        "from sklearn.linear_model import LinearRegression\n",
        "ml  =LinearRegression()\n",
        "ml.fit(x_train,y_train)"
      ],
      "metadata": {
        "colab": {
          "base_uri": "https://localhost:8080/"
        },
        "id": "5MZgz3L_WJtN",
        "outputId": "8034a519-6711-4b84-8289-dee00a7a297d"
      },
      "execution_count": 23,
      "outputs": [
        {
          "output_type": "execute_result",
          "data": {
            "text/plain": [
              "LinearRegression()"
            ]
          },
          "metadata": {},
          "execution_count": 23
        }
      ]
    },
    {
      "cell_type": "markdown",
      "source": [
        "Predict the test set results"
      ],
      "metadata": {
        "id": "kOgX_pIEYSCC"
      }
    },
    {
      "cell_type": "code",
      "source": [
        "y_pred = ml.predict(x_test)\n",
        "print(y_pred)"
      ],
      "metadata": {
        "colab": {
          "base_uri": "https://localhost:8080/"
        },
        "id": "nlmq-QT9W-D1",
        "outputId": "81d00da8-0b29-44a1-dddb-fd16ad11e497"
      },
      "execution_count": 24,
      "outputs": [
        {
          "output_type": "stream",
          "name": "stdout",
          "text": [
            "[2.67499263 4.22615741 5.55703673 3.04367541 2.52215055 3.87830646\n",
            " 6.08538175 2.47873736 4.72457962 3.5526393  3.44004203 2.78857695\n",
            " 3.4796171  3.9987121  4.95114368 2.2427251  3.84390416 4.1269166\n",
            " 3.10831253 4.45573202 1.88267374 3.70040418 5.0759822  4.55381618\n",
            " 2.81619045 4.31745177 5.38371522 5.80942711 2.87300577 2.71970973\n",
            " 4.35113063 5.99483529]\n"
          ]
        }
      ]
    },
    {
      "cell_type": "code",
      "source": [
        "# predcting the 1st feature (value taken from the first row)\n",
        "ml.predict([[1.0,1.0,0.0,1.0,94.1,60.4,89.0,36.0,74.5,54.5,15.2,28.0,36.0]])"
      ],
      "metadata": {
        "colab": {
          "base_uri": "https://localhost:8080/"
        },
        "id": "OS5Dh9EEYdmY",
        "outputId": "f6b3358c-aa10-4312-ee62-5cceef921039"
      },
      "execution_count": 28,
      "outputs": [
        {
          "output_type": "execute_result",
          "data": {
            "text/plain": [
              "array([6.30801517])"
            ]
          },
          "metadata": {},
          "execution_count": 28
        }
      ]
    },
    {
      "cell_type": "markdown",
      "source": [
        "Evaluate the model: R2 score"
      ],
      "metadata": {
        "id": "vub7uh6fZi8Q"
      }
    },
    {
      "cell_type": "code",
      "source": [
        "from sklearn.metrics import r2_score\n",
        "r2_score(y_test,y_pred)   #not a good model because i changed categorical value to random int"
      ],
      "metadata": {
        "colab": {
          "base_uri": "https://localhost:8080/"
        },
        "id": "avIR-MXGZBB4",
        "outputId": "b23a1eaf-f246-4457-b7b3-7c87f6bab6d2"
      },
      "execution_count": 32,
      "outputs": [
        {
          "output_type": "execute_result",
          "data": {
            "text/plain": [
              "-0.14174598916618808"
            ]
          },
          "metadata": {},
          "execution_count": 32
        }
      ]
    },
    {
      "cell_type": "markdown",
      "source": [
        "plot the result"
      ],
      "metadata": {
        "id": "YQyDR2aKarQu"
      }
    },
    {
      "cell_type": "code",
      "source": [
        "import matplotlib.pyplot as plt\n",
        "plt.figure(figsize=(7,5))\n",
        "plt.scatter(y_test, y_pred)\n",
        "plt.xlabel('Actual')\n",
        "plt.ylabel('Predicted')\n",
        "plt.title('Actual vs Predicted')"
      ],
      "metadata": {
        "colab": {
          "base_uri": "https://localhost:8080/",
          "height": 367
        },
        "id": "TlI0IuB9Z1wX",
        "outputId": "e98e81e1-f81a-4d73-bf93-c68c6cbd3253"
      },
      "execution_count": 38,
      "outputs": [
        {
          "output_type": "execute_result",
          "data": {
            "text/plain": [
              "Text(0.5, 1.0, 'Actual vs Predicted')"
            ]
          },
          "metadata": {},
          "execution_count": 38
        },
        {
          "output_type": "display_data",
          "data": {
            "text/plain": [
              "<Figure size 504x360 with 1 Axes>"
            ],
            "image/png": "[encoded data removed]"
          },
          "metadata": {
            "needs_background": "light"
          }
        }
      ]
    },
    {
      "cell_type": "markdown",
      "source": [
        "Predicted Values"
      ],
      "metadata": {
        "id": "TlPF8CfRb3Mm"
      }
    },
    {
      "cell_type": "code",
      "source": [
        "pred_y_df = pd.DataFrame({'Actual value': y_test,'Predicted value':y_pred,'Difference':y_test-y_pred})\n",
        "pred_y_df[0:20]"
      ],
      "metadata": {
        "colab": {
          "base_uri": "https://localhost:8080/",
          "height": 676
        },
        "id": "FSnpW6Jmb1G_",
        "outputId": "7be5cb33-7ba4-4389-c12b-a1a215aff054"
      },
      "execution_count": 40,
      "outputs": [
        {
          "output_type": "execute_result",
          "data": {
            "text/plain": [
              "    Actual value  Predicted value  Difference\n",
              "0            2.0         2.674993   -0.674993\n",
              "1            3.0         4.226157   -1.226157\n",
              "2            6.0         5.557037    0.442963\n",
              "3            6.0         3.043675    2.956325\n",
              "4            3.0         2.522151    0.477849\n",
              "5            4.0         3.878306    0.121694\n",
              "6            1.0         6.085382   -5.085382\n",
              "7            1.0         2.478737   -1.478737\n",
              "8            4.0         4.724580   -0.724580\n",
              "9           14.4         3.552639   10.847361\n",
              "10           4.0         3.440042    0.559958\n",
              "11           3.0         2.788577    0.211423\n",
              "12           6.0         3.479617    2.520383\n",
              "13           3.0         3.998712   -0.998712\n",
              "14           6.0         4.951144    1.048856\n",
              "15           3.0         2.242725    0.757275\n",
              "16           4.0         3.843904    0.156096\n",
              "17           3.0         4.126917   -1.126917\n",
              "18           2.0         3.108313   -1.108313\n",
              "19           9.0         4.455732    4.544268"
            ],
            "text/html": [
              "\n",
              "  <div id=\"df-4697f4aa-fcce-4bbf-b034-974014d9eaff\">\n",
              "    <div class=\"colab-df-container\">\n",
              "      <div>\n",
              "<style scoped>\n",
              "    .dataframe tbody tr th:only-of-type {\n",
              "        vertical-align: middle;\n",
              "    }\n",
              "\n",
              "    .dataframe tbody tr th {\n",
              "        vertical-align: top;\n",
              "    }\n",
              "\n",
              "    .dataframe thead th {\n",
              "        text-align: right;\n",
              "    }\n",
              "</style>\n",
              "<table border=\"1\" class=\"dataframe\">\n",
              "  <thead>\n",
              "    <tr style=\"text-align: right;\">\n",
              "      <th></th>\n",
              "      <th>Actual value</th>\n",
              "      <th>Predicted value</th>\n",
              "      <th>Difference</th>\n",
              "    </tr>\n",
              "  </thead>\n",
              "  <tbody>\n",
              "    <tr>\n",
              "      <th>0</th>\n",
              "      <td>2.0</td>\n",
              "      <td>2.674993</td>\n",
              "      <td>-0.674993</td>\n",
              "    </tr>\n",
              "    <tr>\n",
              "      <th>1</th>\n",
              "      <td>3.0</td>\n",
              "      <td>4.226157</td>\n",
              "      <td>-1.226157</td>\n",
              "    </tr>\n",
              "    <tr>\n",
              "      <th>2</th>\n",
              "      <td>6.0</td>\n",
              "      <td>5.557037</td>\n",
              "      <td>0.442963</td>\n",
              "    </tr>\n",
              "    <tr>\n",
              "      <th>3</th>\n",
              "      <td>6.0</td>\n",
              "      <td>3.043675</td>\n",
              "      <td>2.956325</td>\n",
              "    </tr>\n",
              "    <tr>\n",
              "      <th>4</th>\n",
              "      <td>3.0</td>\n",
              "      <td>2.522151</td>\n",
              "      <td>0.477849</td>\n",
              "    </tr>\n",
              "    <tr>\n",
              "      <th>5</th>\n",
              "      <td>4.0</td>\n",
              "      <td>3.878306</td>\n",
              "      <td>0.121694</td>\n",
              "    </tr>\n",
              "    <tr>\n",
              "      <th>6</th>\n",
              "      <td>1.0</td>\n",
              "      <td>6.085382</td>\n",
              "      <td>-5.085382</td>\n",
              "    </tr>\n",
              "    <tr>\n",
              "      <th>7</th>\n",
              "      <td>1.0</td>\n",
              "      <td>2.478737</td>\n",
              "      <td>-1.478737</td>\n",
              "    </tr>\n",
              "    <tr>\n",
              "      <th>8</th>\n",
              "      <td>4.0</td>\n",
              "      <td>4.724580</td>\n",
              "      <td>-0.724580</td>\n",
              "    </tr>\n",
              "    <tr>\n",
              "      <th>9</th>\n",
              "      <td>14.4</td>\n",
              "      <td>3.552639</td>\n",
              "      <td>10.847361</td>\n",
              "    </tr>\n",
              "    <tr>\n",
              "      <th>10</th>\n",
              "      <td>4.0</td>\n",
              "      <td>3.440042</td>\n",
              "      <td>0.559958</td>\n",
              "    </tr>\n",
              "    <tr>\n",
              "      <th>11</th>\n",
              "      <td>3.0</td>\n",
              "      <td>2.788577</td>\n",
              "      <td>0.211423</td>\n",
              "    </tr>\n",
              "    <tr>\n",
              "      <th>12</th>\n",
              "      <td>6.0</td>\n",
              "      <td>3.479617</td>\n",
              "      <td>2.520383</td>\n",
              "    </tr>\n",
              "    <tr>\n",
              "      <th>13</th>\n",
              "      <td>3.0</td>\n",
              "      <td>3.998712</td>\n",
              "      <td>-0.998712</td>\n",
              "    </tr>\n",
              "    <tr>\n",
              "      <th>14</th>\n",
              "      <td>6.0</td>\n",
              "      <td>4.951144</td>\n",
              "      <td>1.048856</td>\n",
              "    </tr>\n",
              "    <tr>\n",
              "      <th>15</th>\n",
              "      <td>3.0</td>\n",
              "      <td>2.242725</td>\n",
              "      <td>0.757275</td>\n",
              "    </tr>\n",
              "    <tr>\n",
              "      <th>16</th>\n",
              "      <td>4.0</td>\n",
              "      <td>3.843904</td>\n",
              "      <td>0.156096</td>\n",
              "    </tr>\n",
              "    <tr>\n",
              "      <th>17</th>\n",
              "      <td>3.0</td>\n",
              "      <td>4.126917</td>\n",
              "      <td>-1.126917</td>\n",
              "    </tr>\n",
              "    <tr>\n",
              "      <th>18</th>\n",
              "      <td>2.0</td>\n",
              "      <td>3.108313</td>\n",
              "      <td>-1.108313</td>\n",
              "    </tr>\n",
              "    <tr>\n",
              "      <th>19</th>\n",
              "      <td>9.0</td>\n",
              "      <td>4.455732</td>\n",
              "      <td>4.544268</td>\n",
              "    </tr>\n",
              "  </tbody>\n",
              "</table>\n",
              "</div>\n",
              "      <button class=\"colab-df-convert\" onclick=\"convertToInteractive('df-4697f4aa-fcce-4bbf-b034-974014d9eaff')\"\n",
              "              title=\"Convert this dataframe to an interactive table.\"\n",
              "              style=\"display:none;\">\n",
              "        \n",
              "  <svg xmlns=\"http://www.w3.org/2000/svg\" height=\"24px\"viewBox=\"0 0 24 24\"\n",
              "       width=\"24px\">\n",
              "    <path d=\"M0 0h24v24H0V0z\" fill=\"none\"/>\n",
              "    <path d=\"M18.56 5.44l.94 2.06.94-2.06 2.06-.94-2.06-.94-.94-2.06-.94 2.06-2.06.94zm-11 1L8.5 8.5l.94-2.06 2.06-.94-2.06-.94L8.5 2.5l-.94 2.06-2.06.94zm10 10l.94 2.06.94-2.06 2.06-.94-2.06-.94-.94-2.06-.94 2.06-2.06.94z\"/><path d=\"M17.41 7.96l-1.37-1.37c-.4-.4-.92-.59-1.43-.59-.52 0-1.04.2-1.43.59L10.3 9.45l-7.72 7.72c-.78.78-.78 2.05 0 2.83L4 21.41c.39.39.9.59 1.41.59.51 0 1.02-.2 1.41-.59l7.78-7.78 2.81-2.81c.8-.78.8-2.07 0-2.86zM5.41 20L4 18.59l7.72-7.72 1.47 1.35L5.41 20z\"/>\n",
              "  </svg>\n",
              "      </button>\n",
              "      \n",
              "  <style>\n",
              "    .colab-df-container {\n",
              "      display:flex;\n",
              "      flex-wrap:wrap;\n",
              "      gap: 12px;\n",
              "    }\n",
              "\n",
              "    .colab-df-convert {\n",
              "      background-color: #E8F0FE;\n",
              "      border: none;\n",
              "      border-radius: 50%;\n",
              "      cursor: pointer;\n",
              "      display: none;\n",
              "      fill: #1967D2;\n",
              "      height: 32px;\n",
              "      padding: 0 0 0 0;\n",
              "      width: 32px;\n",
              "    }\n",
              "\n",
              "    .colab-df-convert:hover {\n",
              "      background-color: #E2EBFA;\n",
              "      box-shadow: 0px 1px 2px rgba(60, 64, 67, 0.3), 0px 1px 3px 1px rgba(60, 64, 67, 0.15);\n",
              "      fill: #174EA6;\n",
              "    }\n",
              "\n",
              "    [theme=dark] .colab-df-convert {\n",
              "      background-color: #3B4455;\n",
              "      fill: #D2E3FC;\n",
              "    }\n",
              "\n",
              "    [theme=dark] .colab-df-convert:hover {\n",
              "      background-color: #434B5C;\n",
              "      box-shadow: 0px 1px 3px 1px rgba(0, 0, 0, 0.15);\n",
              "      filter: drop-shadow(0px 1px 2px rgba(0, 0, 0, 0.3));\n",
              "      fill: #FFFFFF;\n",
              "    }\n",
              "  </style>\n",
              "\n",
              "      <script>\n",
              "        const buttonEl =\n",
              "          document.querySelector('#df-4697f4aa-fcce-4bbf-b034-974014d9eaff button.colab-df-convert');\n",
              "        buttonEl.style.display =\n",
              "          google.colab.kernel.accessAllowed ? 'block' : 'none';\n",
              "\n",
              "        async function convertToInteractive(key) {\n",
              "          const element = document.querySelector('#df-4697f4aa-fcce-4bbf-b034-974014d9eaff');\n",
              "          const dataTable =\n",
              "            await google.colab.kernel.invokeFunction('convertToInteractive',\n",
              "                                                     [key], {});\n",
              "          if (!dataTable) return;\n",
              "\n",
              "          const docLinkHtml = 'Like what you see? Visit the ' +\n",
              "            '<a target=\"_blank\" href=https://colab.research.google.com/notebooks/data_table.ipynb>data table notebook</a>'\n",
              "            + ' to learn more about interactive tables.';\n",
              "          element.innerHTML = '';\n",
              "          dataTable['output_type'] = 'display_data';\n",
              "          await google.colab.output.renderOutput(dataTable, element);\n",
              "          const docLink = document.createElement('div');\n",
              "          docLink.innerHTML = docLinkHtml;\n",
              "          element.appendChild(docLink);\n",
              "        }\n",
              "      </script>\n",
              "    </div>\n",
              "  </div>\n",
              "  "
            ]
          },
          "metadata": {},
          "execution_count": 40
        }
      ]
    },
    {
      "cell_type": "code",
      "source": [
        ""
      ],
      "metadata": {
        "id": "YRmYzVHHbdJj"
      },
      "execution_count": null,
      "outputs": []
    }
  ]
}